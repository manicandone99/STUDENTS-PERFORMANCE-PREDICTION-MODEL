{
 "cells": [
  {
   "attachments": {
    "743a3122-f2fd-47a4-8f1e-a62bb2ee68d8.jfif": {
     "image/jpeg": "[encoded data removed]"
    }
   },
   "cell_type": "markdown",
   "id": "6d10dbb2",
   "metadata": {
    "papermill": {
     "duration": 0.013476,
     "end_time": "2022-10-18T10:49:00.222243",
     "exception": false,
     "start_time": "2022-10-18T10:49:00.208767",
     "status": "completed"
    },
    "tags": []
   },
   "source": [
    "![exam.jfif](attachment:743a3122-f2fd-47a4-8f1e-a62bb2ee68d8.jfif)"
   ]
  },
  {
   "cell_type": "markdown",
   "id": "7905e7f0",
   "metadata": {
    "papermill": {
     "duration": 0.012809,
     "end_time": "2022-10-18T10:49:00.249935",
     "exception": false,
     "start_time": "2022-10-18T10:49:00.237126",
     "status": "completed"
    },
    "tags": []
   },
   "source": [
    "> <div class=\"alert alert-block alert-info\">\n",
    "<b></b> <strong>Import Libraries</strong></div>"
   ]
  },
  {
   "cell_type": "code",
   "execution_count": 4,
   "id": "1071b602",
   "metadata": {
    "execution": {
     "iopub.execute_input": "2022-10-18T10:49:00.278833Z",
     "iopub.status.busy": "2022-10-18T10:49:00.278421Z",
     "iopub.status.idle": "2022-10-18T10:49:01.411247Z",
     "shell.execute_reply": "2022-10-18T10:49:01.410010Z"
    },
    "papermill": {
     "duration": 1.151079,
     "end_time": "2022-10-18T10:49:01.414061",
     "exception": false,
     "start_time": "2022-10-18T10:49:00.262982",
     "status": "completed"
    },
    "tags": []
   },
   "outputs": [],
   "source": [
    "import numpy as np\n",
    "import pandas as pd \n",
    "import seaborn as sns \n",
    "import matplotlib.pyplot as plt\n",
    "import warnings \n",
    "warnings.filterwarnings('ignore')"
   ]
  },
  {
   "cell_type": "markdown",
   "id": "137756da",
   "metadata": {
    "papermill": {
     "duration": 0.013098,
     "end_time": "2022-10-18T10:49:01.441122",
     "exception": false,
     "start_time": "2022-10-18T10:49:01.428024",
     "status": "completed"
    },
    "tags": []
   },
   "source": [
    "> <div class=\"alert alert-block alert-info\">\n",
    "<b></b> <strong>Data Reading</strong></div>"
   ]
  },
  {
   "cell_type": "code",
   "execution_count": 5,
   "id": "d988e22c",
   "metadata": {
    "execution": {
     "iopub.execute_input": "2022-10-18T10:49:01.469238Z",
     "iopub.status.busy": "2022-10-18T10:49:01.468551Z",
     "iopub.status.idle": "2022-10-18T10:49:01.517802Z",
     "shell.execute_reply": "2022-10-18T10:49:01.516576Z"
    },
    "papermill": {
     "duration": 0.066798,
     "end_time": "2022-10-18T10:49:01.520838",
     "exception": false,
     "start_time": "2022-10-18T10:49:01.454040",
     "status": "completed"
    },
    "tags": []
   },
   "outputs": [
    {
     "data": {
      "text/html": [
       "<div>\n",
       "<style scoped>\n",
       "    .dataframe tbody tr th:only-of-type {\n",
       "        vertical-align: middle;\n",
       "    }\n",
       "\n",
       "    .dataframe tbody tr th {\n",
       "        vertical-align: top;\n",
       "    }\n",
       "\n",
       "    .dataframe thead th {\n",
       "        text-align: right;\n",
       "    }\n",
       "</style>\n",
       "<table border=\"1\" class=\"dataframe\">\n",
       "  <thead>\n",
       "    <tr style=\"text-align: right;\">\n",
       "      <th></th>\n",
       "      <th>gender</th>\n",
       "      <th>race/ethnicity</th>\n",
       "      <th>parental level of education</th>\n",
       "      <th>lunch</th>\n",
       "      <th>test preparation course</th>\n",
       "      <th>math score</th>\n",
       "      <th>reading score</th>\n",
       "      <th>writing score</th>\n",
       "    </tr>\n",
       "  </thead>\n",
       "  <tbody>\n",
       "    <tr>\n",
       "      <th>0</th>\n",
       "      <td>male</td>\n",
       "      <td>group A</td>\n",
       "      <td>high school</td>\n",
       "      <td>standard</td>\n",
       "      <td>completed</td>\n",
       "      <td>67</td>\n",
       "      <td>67</td>\n",
       "      <td>63</td>\n",
       "    </tr>\n",
       "    <tr>\n",
       "      <th>1</th>\n",
       "      <td>female</td>\n",
       "      <td>group D</td>\n",
       "      <td>some high school</td>\n",
       "      <td>free/reduced</td>\n",
       "      <td>none</td>\n",
       "      <td>40</td>\n",
       "      <td>59</td>\n",
       "      <td>55</td>\n",
       "    </tr>\n",
       "    <tr>\n",
       "      <th>2</th>\n",
       "      <td>male</td>\n",
       "      <td>group E</td>\n",
       "      <td>some college</td>\n",
       "      <td>free/reduced</td>\n",
       "      <td>none</td>\n",
       "      <td>59</td>\n",
       "      <td>60</td>\n",
       "      <td>50</td>\n",
       "    </tr>\n",
       "    <tr>\n",
       "      <th>3</th>\n",
       "      <td>male</td>\n",
       "      <td>group B</td>\n",
       "      <td>high school</td>\n",
       "      <td>standard</td>\n",
       "      <td>none</td>\n",
       "      <td>77</td>\n",
       "      <td>78</td>\n",
       "      <td>68</td>\n",
       "    </tr>\n",
       "    <tr>\n",
       "      <th>4</th>\n",
       "      <td>male</td>\n",
       "      <td>group E</td>\n",
       "      <td>associate's degree</td>\n",
       "      <td>standard</td>\n",
       "      <td>completed</td>\n",
       "      <td>78</td>\n",
       "      <td>73</td>\n",
       "      <td>68</td>\n",
       "    </tr>\n",
       "  </tbody>\n",
       "</table>\n",
       "</div>"
      ],
      "text/plain": [
       "   gender race/ethnicity parental level of education         lunch  \\\n",
       "0    male        group A                 high school      standard   \n",
       "1  female        group D            some high school  free/reduced   \n",
       "2    male        group E                some college  free/reduced   \n",
       "3    male        group B                 high school      standard   \n",
       "4    male        group E          associate's degree      standard   \n",
       "\n",
       "  test preparation course  math score  reading score  writing score  \n",
       "0               completed          67             67             63  \n",
       "1                    none          40             59             55  \n",
       "2                    none          59             60             50  \n",
       "3                    none          77             78             68  \n",
       "4               completed          78             73             68  "
      ]
     },
     "execution_count": 5,
     "metadata": {},
     "output_type": "execute_result"
    }
   ],
   "source": [
    "df= pd.read_csv(r\"C:\\Users\\manis\\Downloads\\exams.csv\")\n",
    "df.head()"
   ]
  },
  {
   "cell_type": "markdown",
   "id": "9bc8e38a",
   "metadata": {
    "papermill": {
     "duration": 0.014174,
     "end_time": "2022-10-18T10:49:01.555434",
     "exception": false,
     "start_time": "2022-10-18T10:49:01.541260",
     "status": "completed"
    },
    "tags": []
   },
   "source": [
    "> <div class=\"alert alert-block alert-info\">\n",
    "<b></b> <strong>information about data</strong></div>"
   ]
  },
  {
   "cell_type": "code",
   "execution_count": 6,
   "id": "56a8d7a3",
   "metadata": {
    "execution": {
     "iopub.execute_input": "2022-10-18T10:49:01.591551Z",
     "iopub.status.busy": "2022-10-18T10:49:01.591117Z",
     "iopub.status.idle": "2022-10-18T10:49:01.606141Z",
     "shell.execute_reply": "2022-10-18T10:49:01.605056Z"
    },
    "papermill": {
     "duration": 0.034364,
     "end_time": "2022-10-18T10:49:01.608399",
     "exception": false,
     "start_time": "2022-10-18T10:49:01.574035",
     "status": "completed"
    },
    "tags": []
   },
   "outputs": [
    {
     "data": {
      "text/html": [
       "<div>\n",
       "<style scoped>\n",
       "    .dataframe tbody tr th:only-of-type {\n",
       "        vertical-align: middle;\n",
       "    }\n",
       "\n",
       "    .dataframe tbody tr th {\n",
       "        vertical-align: top;\n",
       "    }\n",
       "\n",
       "    .dataframe thead th {\n",
       "        text-align: right;\n",
       "    }\n",
       "</style>\n",
       "<table border=\"1\" class=\"dataframe\">\n",
       "  <thead>\n",
       "    <tr style=\"text-align: right;\">\n",
       "      <th></th>\n",
       "      <th>gender</th>\n",
       "      <th>race/ethnicity</th>\n",
       "      <th>parental level of education</th>\n",
       "      <th>lunch</th>\n",
       "      <th>test preparation course</th>\n",
       "      <th>math score</th>\n",
       "      <th>reading score</th>\n",
       "      <th>writing score</th>\n",
       "    </tr>\n",
       "  </thead>\n",
       "  <tbody>\n",
       "    <tr>\n",
       "      <th>995</th>\n",
       "      <td>male</td>\n",
       "      <td>group C</td>\n",
       "      <td>high school</td>\n",
       "      <td>standard</td>\n",
       "      <td>none</td>\n",
       "      <td>73</td>\n",
       "      <td>70</td>\n",
       "      <td>65</td>\n",
       "    </tr>\n",
       "    <tr>\n",
       "      <th>996</th>\n",
       "      <td>male</td>\n",
       "      <td>group D</td>\n",
       "      <td>associate's degree</td>\n",
       "      <td>free/reduced</td>\n",
       "      <td>completed</td>\n",
       "      <td>85</td>\n",
       "      <td>91</td>\n",
       "      <td>92</td>\n",
       "    </tr>\n",
       "    <tr>\n",
       "      <th>997</th>\n",
       "      <td>female</td>\n",
       "      <td>group C</td>\n",
       "      <td>some high school</td>\n",
       "      <td>free/reduced</td>\n",
       "      <td>none</td>\n",
       "      <td>32</td>\n",
       "      <td>35</td>\n",
       "      <td>41</td>\n",
       "    </tr>\n",
       "    <tr>\n",
       "      <th>998</th>\n",
       "      <td>female</td>\n",
       "      <td>group C</td>\n",
       "      <td>some college</td>\n",
       "      <td>standard</td>\n",
       "      <td>none</td>\n",
       "      <td>73</td>\n",
       "      <td>74</td>\n",
       "      <td>82</td>\n",
       "    </tr>\n",
       "    <tr>\n",
       "      <th>999</th>\n",
       "      <td>male</td>\n",
       "      <td>group A</td>\n",
       "      <td>some college</td>\n",
       "      <td>standard</td>\n",
       "      <td>completed</td>\n",
       "      <td>65</td>\n",
       "      <td>60</td>\n",
       "      <td>62</td>\n",
       "    </tr>\n",
       "  </tbody>\n",
       "</table>\n",
       "</div>"
      ],
      "text/plain": [
       "     gender race/ethnicity parental level of education         lunch  \\\n",
       "995    male        group C                 high school      standard   \n",
       "996    male        group D          associate's degree  free/reduced   \n",
       "997  female        group C            some high school  free/reduced   \n",
       "998  female        group C                some college      standard   \n",
       "999    male        group A                some college      standard   \n",
       "\n",
       "    test preparation course  math score  reading score  writing score  \n",
       "995                    none          73             70             65  \n",
       "996               completed          85             91             92  \n",
       "997                    none          32             35             41  \n",
       "998                    none          73             74             82  \n",
       "999               completed          65             60             62  "
      ]
     },
     "execution_count": 6,
     "metadata": {},
     "output_type": "execute_result"
    }
   ],
   "source": [
    "df.tail()"
   ]
  },
  {
   "cell_type": "code",
   "execution_count": 7,
   "id": "79ed181a",
   "metadata": {
    "execution": {
     "iopub.execute_input": "2022-10-18T10:49:01.637469Z",
     "iopub.status.busy": "2022-10-18T10:49:01.636702Z",
     "iopub.status.idle": "2022-10-18T10:49:01.667065Z",
     "shell.execute_reply": "2022-10-18T10:49:01.665784Z"
    },
    "papermill": {
     "duration": 0.047746,
     "end_time": "2022-10-18T10:49:01.669543",
     "exception": false,
     "start_time": "2022-10-18T10:49:01.621797",
     "status": "completed"
    },
    "tags": []
   },
   "outputs": [
    {
     "data": {
      "text/html": [
       "<div>\n",
       "<style scoped>\n",
       "    .dataframe tbody tr th:only-of-type {\n",
       "        vertical-align: middle;\n",
       "    }\n",
       "\n",
       "    .dataframe tbody tr th {\n",
       "        vertical-align: top;\n",
       "    }\n",
       "\n",
       "    .dataframe thead th {\n",
       "        text-align: right;\n",
       "    }\n",
       "</style>\n",
       "<table border=\"1\" class=\"dataframe\">\n",
       "  <thead>\n",
       "    <tr style=\"text-align: right;\">\n",
       "      <th></th>\n",
       "      <th>math score</th>\n",
       "      <th>reading score</th>\n",
       "      <th>writing score</th>\n",
       "    </tr>\n",
       "  </thead>\n",
       "  <tbody>\n",
       "    <tr>\n",
       "      <th>count</th>\n",
       "      <td>1000.000000</td>\n",
       "      <td>1000.000000</td>\n",
       "      <td>1000.000000</td>\n",
       "    </tr>\n",
       "    <tr>\n",
       "      <th>mean</th>\n",
       "      <td>66.396000</td>\n",
       "      <td>69.002000</td>\n",
       "      <td>67.738000</td>\n",
       "    </tr>\n",
       "    <tr>\n",
       "      <th>std</th>\n",
       "      <td>15.402871</td>\n",
       "      <td>14.737272</td>\n",
       "      <td>15.600985</td>\n",
       "    </tr>\n",
       "    <tr>\n",
       "      <th>min</th>\n",
       "      <td>13.000000</td>\n",
       "      <td>27.000000</td>\n",
       "      <td>23.000000</td>\n",
       "    </tr>\n",
       "    <tr>\n",
       "      <th>25%</th>\n",
       "      <td>56.000000</td>\n",
       "      <td>60.000000</td>\n",
       "      <td>58.000000</td>\n",
       "    </tr>\n",
       "    <tr>\n",
       "      <th>50%</th>\n",
       "      <td>66.500000</td>\n",
       "      <td>70.000000</td>\n",
       "      <td>68.000000</td>\n",
       "    </tr>\n",
       "    <tr>\n",
       "      <th>75%</th>\n",
       "      <td>77.000000</td>\n",
       "      <td>79.000000</td>\n",
       "      <td>79.000000</td>\n",
       "    </tr>\n",
       "    <tr>\n",
       "      <th>max</th>\n",
       "      <td>100.000000</td>\n",
       "      <td>100.000000</td>\n",
       "      <td>100.000000</td>\n",
       "    </tr>\n",
       "  </tbody>\n",
       "</table>\n",
       "</div>"
      ],
      "text/plain": [
       "        math score  reading score  writing score\n",
       "count  1000.000000    1000.000000    1000.000000\n",
       "mean     66.396000      69.002000      67.738000\n",
       "std      15.402871      14.737272      15.600985\n",
       "min      13.000000      27.000000      23.000000\n",
       "25%      56.000000      60.000000      58.000000\n",
       "50%      66.500000      70.000000      68.000000\n",
       "75%      77.000000      79.000000      79.000000\n",
       "max     100.000000     100.000000     100.000000"
      ]
     },
     "execution_count": 7,
     "metadata": {},
     "output_type": "execute_result"
    }
   ],
   "source": [
    "df.describe()"
   ]
  },
  {
   "cell_type": "code",
   "execution_count": 8,
   "id": "a61985ca",
   "metadata": {
    "execution": {
     "iopub.execute_input": "2022-10-18T10:49:01.699127Z",
     "iopub.status.busy": "2022-10-18T10:49:01.698703Z",
     "iopub.status.idle": "2022-10-18T10:49:01.708080Z",
     "shell.execute_reply": "2022-10-18T10:49:01.706873Z"
    },
    "papermill": {
     "duration": 0.027344,
     "end_time": "2022-10-18T10:49:01.710530",
     "exception": false,
     "start_time": "2022-10-18T10:49:01.683186",
     "status": "completed"
    },
    "tags": []
   },
   "outputs": [
    {
     "data": {
      "text/plain": [
       "gender                         object\n",
       "race/ethnicity                 object\n",
       "parental level of education    object\n",
       "lunch                          object\n",
       "test preparation course        object\n",
       "math score                      int64\n",
       "reading score                   int64\n",
       "writing score                   int64\n",
       "dtype: object"
      ]
     },
     "execution_count": 8,
     "metadata": {},
     "output_type": "execute_result"
    }
   ],
   "source": [
    "df.dtypes"
   ]
  },
  {
   "cell_type": "code",
   "execution_count": 9,
   "id": "f32388cd",
   "metadata": {
    "execution": {
     "iopub.execute_input": "2022-10-18T10:49:01.741652Z",
     "iopub.status.busy": "2022-10-18T10:49:01.740450Z",
     "iopub.status.idle": "2022-10-18T10:49:01.758092Z",
     "shell.execute_reply": "2022-10-18T10:49:01.756799Z"
    },
    "papermill": {
     "duration": 0.035267,
     "end_time": "2022-10-18T10:49:01.760407",
     "exception": false,
     "start_time": "2022-10-18T10:49:01.725140",
     "status": "completed"
    },
    "tags": []
   },
   "outputs": [
    {
     "name": "stdout",
     "output_type": "stream",
     "text": [
      "<class 'pandas.core.frame.DataFrame'>\n",
      "RangeIndex: 1000 entries, 0 to 999\n",
      "Data columns (total 8 columns):\n",
      " #   Column                       Non-Null Count  Dtype \n",
      "---  ------                       --------------  ----- \n",
      " 0   gender                       1000 non-null   object\n",
      " 1   race/ethnicity               1000 non-null   object\n",
      " 2   parental level of education  1000 non-null   object\n",
      " 3   lunch                        1000 non-null   object\n",
      " 4   test preparation course      1000 non-null   object\n",
      " 5   math score                   1000 non-null   int64 \n",
      " 6   reading score                1000 non-null   int64 \n",
      " 7   writing score                1000 non-null   int64 \n",
      "dtypes: int64(3), object(5)\n",
      "memory usage: 62.6+ KB\n"
     ]
    }
   ],
   "source": [
    "df.info()"
   ]
  },
  {
   "cell_type": "code",
   "execution_count": 10,
   "id": "75304e6a",
   "metadata": {
    "execution": {
     "iopub.execute_input": "2022-10-18T10:49:01.792481Z",
     "iopub.status.busy": "2022-10-18T10:49:01.791054Z",
     "iopub.status.idle": "2022-10-18T10:49:01.800943Z",
     "shell.execute_reply": "2022-10-18T10:49:01.799951Z"
    },
    "papermill": {
     "duration": 0.027831,
     "end_time": "2022-10-18T10:49:01.803203",
     "exception": false,
     "start_time": "2022-10-18T10:49:01.775372",
     "status": "completed"
    },
    "tags": []
   },
   "outputs": [
    {
     "data": {
      "text/plain": [
       "gender                         0\n",
       "race/ethnicity                 0\n",
       "parental level of education    0\n",
       "lunch                          0\n",
       "test preparation course        0\n",
       "math score                     0\n",
       "reading score                  0\n",
       "writing score                  0\n",
       "dtype: int64"
      ]
     },
     "execution_count": 10,
     "metadata": {},
     "output_type": "execute_result"
    }
   ],
   "source": [
    "df.isnull().sum()"
   ]
  },
  {
   "cell_type": "code",
   "execution_count": 11,
   "id": "d56cc35b",
   "metadata": {
    "execution": {
     "iopub.execute_input": "2022-10-18T10:49:01.835197Z",
     "iopub.status.busy": "2022-10-18T10:49:01.834394Z",
     "iopub.status.idle": "2022-10-18T10:49:01.842082Z",
     "shell.execute_reply": "2022-10-18T10:49:01.840992Z"
    },
    "papermill": {
     "duration": 0.026533,
     "end_time": "2022-10-18T10:49:01.844384",
     "exception": false,
     "start_time": "2022-10-18T10:49:01.817851",
     "status": "completed"
    },
    "tags": []
   },
   "outputs": [
    {
     "data": {
      "text/plain": [
       "(1000, 8)"
      ]
     },
     "execution_count": 11,
     "metadata": {},
     "output_type": "execute_result"
    }
   ],
   "source": [
    "df.shape"
   ]
  },
  {
   "cell_type": "code",
   "execution_count": 12,
   "id": "1fa236b8",
   "metadata": {
    "execution": {
     "iopub.execute_input": "2022-10-18T10:49:01.874785Z",
     "iopub.status.busy": "2022-10-18T10:49:01.874340Z",
     "iopub.status.idle": "2022-10-18T10:49:01.881953Z",
     "shell.execute_reply": "2022-10-18T10:49:01.880664Z"
    },
    "papermill": {
     "duration": 0.025444,
     "end_time": "2022-10-18T10:49:01.884422",
     "exception": false,
     "start_time": "2022-10-18T10:49:01.858978",
     "status": "completed"
    },
    "tags": []
   },
   "outputs": [
    {
     "data": {
      "text/plain": [
       "Index(['gender', 'race/ethnicity', 'parental level of education', 'lunch',\n",
       "       'test preparation course', 'math score', 'reading score',\n",
       "       'writing score'],\n",
       "      dtype='object')"
      ]
     },
     "execution_count": 12,
     "metadata": {},
     "output_type": "execute_result"
    }
   ],
   "source": [
    "df.columns"
   ]
  },
  {
   "cell_type": "code",
   "execution_count": 13,
   "id": "0934eded",
   "metadata": {
    "execution": {
     "iopub.execute_input": "2022-10-18T10:49:01.916798Z",
     "iopub.status.busy": "2022-10-18T10:49:01.915628Z",
     "iopub.status.idle": "2022-10-18T10:49:01.930138Z",
     "shell.execute_reply": "2022-10-18T10:49:01.928805Z"
    },
    "papermill": {
     "duration": 0.033217,
     "end_time": "2022-10-18T10:49:01.932318",
     "exception": false,
     "start_time": "2022-10-18T10:49:01.899101",
     "status": "completed"
    },
    "tags": []
   },
   "outputs": [
    {
     "data": {
      "text/html": [
       "<div>\n",
       "<style scoped>\n",
       "    .dataframe tbody tr th:only-of-type {\n",
       "        vertical-align: middle;\n",
       "    }\n",
       "\n",
       "    .dataframe tbody tr th {\n",
       "        vertical-align: top;\n",
       "    }\n",
       "\n",
       "    .dataframe thead th {\n",
       "        text-align: right;\n",
       "    }\n",
       "</style>\n",
       "<table border=\"1\" class=\"dataframe\">\n",
       "  <thead>\n",
       "    <tr style=\"text-align: right;\">\n",
       "      <th></th>\n",
       "      <th>gender</th>\n",
       "      <th>race/ethnicity</th>\n",
       "      <th>parental level of education</th>\n",
       "      <th>lunch</th>\n",
       "      <th>test preparation course</th>\n",
       "      <th>math score</th>\n",
       "      <th>reading score</th>\n",
       "      <th>writing score</th>\n",
       "    </tr>\n",
       "  </thead>\n",
       "  <tbody>\n",
       "    <tr>\n",
       "      <th>0</th>\n",
       "      <td>male</td>\n",
       "      <td>group A</td>\n",
       "      <td>high school</td>\n",
       "      <td>standard</td>\n",
       "      <td>completed</td>\n",
       "      <td>67</td>\n",
       "      <td>67</td>\n",
       "      <td>63</td>\n",
       "    </tr>\n",
       "    <tr>\n",
       "      <th>1</th>\n",
       "      <td>female</td>\n",
       "      <td>group D</td>\n",
       "      <td>some high school</td>\n",
       "      <td>free/reduced</td>\n",
       "      <td>none</td>\n",
       "      <td>40</td>\n",
       "      <td>59</td>\n",
       "      <td>55</td>\n",
       "    </tr>\n",
       "    <tr>\n",
       "      <th>2</th>\n",
       "      <td>male</td>\n",
       "      <td>group E</td>\n",
       "      <td>some college</td>\n",
       "      <td>free/reduced</td>\n",
       "      <td>none</td>\n",
       "      <td>59</td>\n",
       "      <td>60</td>\n",
       "      <td>50</td>\n",
       "    </tr>\n",
       "    <tr>\n",
       "      <th>3</th>\n",
       "      <td>male</td>\n",
       "      <td>group B</td>\n",
       "      <td>high school</td>\n",
       "      <td>standard</td>\n",
       "      <td>none</td>\n",
       "      <td>77</td>\n",
       "      <td>78</td>\n",
       "      <td>68</td>\n",
       "    </tr>\n",
       "    <tr>\n",
       "      <th>4</th>\n",
       "      <td>male</td>\n",
       "      <td>group E</td>\n",
       "      <td>associate's degree</td>\n",
       "      <td>standard</td>\n",
       "      <td>completed</td>\n",
       "      <td>78</td>\n",
       "      <td>73</td>\n",
       "      <td>68</td>\n",
       "    </tr>\n",
       "  </tbody>\n",
       "</table>\n",
       "</div>"
      ],
      "text/plain": [
       "   gender race/ethnicity parental level of education         lunch  \\\n",
       "0    male        group A                 high school      standard   \n",
       "1  female        group D            some high school  free/reduced   \n",
       "2    male        group E                some college  free/reduced   \n",
       "3    male        group B                 high school      standard   \n",
       "4    male        group E          associate's degree      standard   \n",
       "\n",
       "  test preparation course  math score  reading score  writing score  \n",
       "0               completed          67             67             63  \n",
       "1                    none          40             59             55  \n",
       "2                    none          59             60             50  \n",
       "3                    none          77             78             68  \n",
       "4               completed          78             73             68  "
      ]
     },
     "execution_count": 13,
     "metadata": {},
     "output_type": "execute_result"
    }
   ],
   "source": [
    "df.head()"
   ]
  },
  {
   "cell_type": "markdown",
   "id": "b51d50b7",
   "metadata": {
    "papermill": {
     "duration": 0.014193,
     "end_time": "2022-10-18T10:49:01.961030",
     "exception": false,
     "start_time": "2022-10-18T10:49:01.946837",
     "status": "completed"
    },
    "tags": []
   },
   "source": [
    "> <div class=\"alert alert-block alert-info\">\n",
    "<b></b> <strong>Rename</strong></div>"
   ]
  },
  {
   "cell_type": "code",
   "execution_count": 14,
   "id": "f1b861b0",
   "metadata": {
    "execution": {
     "iopub.execute_input": "2022-10-18T10:49:01.993248Z",
     "iopub.status.busy": "2022-10-18T10:49:01.992176Z",
     "iopub.status.idle": "2022-10-18T10:49:02.008823Z",
     "shell.execute_reply": "2022-10-18T10:49:02.007626Z"
    },
    "papermill": {
     "duration": 0.035696,
     "end_time": "2022-10-18T10:49:02.011134",
     "exception": false,
     "start_time": "2022-10-18T10:49:01.975438",
     "status": "completed"
    },
    "tags": []
   },
   "outputs": [
    {
     "data": {
      "text/html": [
       "<div>\n",
       "<style scoped>\n",
       "    .dataframe tbody tr th:only-of-type {\n",
       "        vertical-align: middle;\n",
       "    }\n",
       "\n",
       "    .dataframe tbody tr th {\n",
       "        vertical-align: top;\n",
       "    }\n",
       "\n",
       "    .dataframe thead th {\n",
       "        text-align: right;\n",
       "    }\n",
       "</style>\n",
       "<table border=\"1\" class=\"dataframe\">\n",
       "  <thead>\n",
       "    <tr style=\"text-align: right;\">\n",
       "      <th></th>\n",
       "      <th>gender</th>\n",
       "      <th>race_ethnicity</th>\n",
       "      <th>Education</th>\n",
       "      <th>lunch</th>\n",
       "      <th>test_preparation_course</th>\n",
       "      <th>math_score</th>\n",
       "      <th>reading_score</th>\n",
       "      <th>writing_score</th>\n",
       "    </tr>\n",
       "  </thead>\n",
       "  <tbody>\n",
       "    <tr>\n",
       "      <th>0</th>\n",
       "      <td>male</td>\n",
       "      <td>group A</td>\n",
       "      <td>high school</td>\n",
       "      <td>standard</td>\n",
       "      <td>completed</td>\n",
       "      <td>67</td>\n",
       "      <td>67</td>\n",
       "      <td>63</td>\n",
       "    </tr>\n",
       "    <tr>\n",
       "      <th>1</th>\n",
       "      <td>female</td>\n",
       "      <td>group D</td>\n",
       "      <td>some high school</td>\n",
       "      <td>free/reduced</td>\n",
       "      <td>none</td>\n",
       "      <td>40</td>\n",
       "      <td>59</td>\n",
       "      <td>55</td>\n",
       "    </tr>\n",
       "    <tr>\n",
       "      <th>2</th>\n",
       "      <td>male</td>\n",
       "      <td>group E</td>\n",
       "      <td>some college</td>\n",
       "      <td>free/reduced</td>\n",
       "      <td>none</td>\n",
       "      <td>59</td>\n",
       "      <td>60</td>\n",
       "      <td>50</td>\n",
       "    </tr>\n",
       "    <tr>\n",
       "      <th>3</th>\n",
       "      <td>male</td>\n",
       "      <td>group B</td>\n",
       "      <td>high school</td>\n",
       "      <td>standard</td>\n",
       "      <td>none</td>\n",
       "      <td>77</td>\n",
       "      <td>78</td>\n",
       "      <td>68</td>\n",
       "    </tr>\n",
       "    <tr>\n",
       "      <th>4</th>\n",
       "      <td>male</td>\n",
       "      <td>group E</td>\n",
       "      <td>associate's degree</td>\n",
       "      <td>standard</td>\n",
       "      <td>completed</td>\n",
       "      <td>78</td>\n",
       "      <td>73</td>\n",
       "      <td>68</td>\n",
       "    </tr>\n",
       "  </tbody>\n",
       "</table>\n",
       "</div>"
      ],
      "text/plain": [
       "   gender race_ethnicity           Education         lunch  \\\n",
       "0    male        group A         high school      standard   \n",
       "1  female        group D    some high school  free/reduced   \n",
       "2    male        group E        some college  free/reduced   \n",
       "3    male        group B         high school      standard   \n",
       "4    male        group E  associate's degree      standard   \n",
       "\n",
       "  test_preparation_course  math_score  reading_score  writing_score  \n",
       "0               completed          67             67             63  \n",
       "1                    none          40             59             55  \n",
       "2                    none          59             60             50  \n",
       "3                    none          77             78             68  \n",
       "4               completed          78             73             68  "
      ]
     },
     "execution_count": 14,
     "metadata": {},
     "output_type": "execute_result"
    }
   ],
   "source": [
    "df=df.rename(columns={\"race/ethnicity\":\"race_ethnicity\",\"parental level of education\":\"Education\",\"test preparation course\":\"test_preparation_course\",\"math score\":\"math_score\",\"reading score\":\"reading_score\",\"writing score\":\"writing_score\"})\n",
    "df.head()"
   ]
  },
  {
   "cell_type": "markdown",
   "id": "c6e80446",
   "metadata": {
    "papermill": {
     "duration": 0.014636,
     "end_time": "2022-10-18T10:49:02.040502",
     "exception": false,
     "start_time": "2022-10-18T10:49:02.025866",
     "status": "completed"
    },
    "tags": []
   },
   "source": [
    "> <div class=\"alert alert-block alert-info\">\n",
    "<b></b> <strong>DATA VISUALIZATION</strong></div>"
   ]
  },
  {
   "cell_type": "code",
   "execution_count": 92,
   "id": "d8b7f771",
   "metadata": {
    "execution": {
     "iopub.execute_input": "2022-10-18T10:49:02.072397Z",
     "iopub.status.busy": "2022-10-18T10:49:02.071178Z",
     "iopub.status.idle": "2022-10-18T10:49:02.078610Z",
     "shell.execute_reply": "2022-10-18T10:49:02.077785Z"
    },
    "papermill": {
     "duration": 0.025994,
     "end_time": "2022-10-18T10:49:02.081261",
     "exception": false,
     "start_time": "2022-10-18T10:49:02.055267",
     "status": "completed"
    },
    "tags": []
   },
   "outputs": [],
   "source": [
    "def bar_plot(variable):\n",
    "\n",
    "    var = df[variable]\n",
    "    \n",
    "    varValue = var.value_counts()\n",
    "    \n",
    "\n",
    "    plt.figure(figsize =(5,5))\n",
    "    plt.bar(varValue.index, varValue)\n",
    "    plt.xticks(varValue.index, varValue.index.values,rotation=45)\n",
    "    plt.ylabel(\"Frequency\")\n",
    "    plt.title(variable)\n",
    "    plt.show()\n",
    "    print(\"{}: \\n {}\".format(variable,varValue))"
   ]
  },
  {
   "cell_type": "code",
   "execution_count": 93,
   "id": "aa9fc305",
   "metadata": {
    "execution": {
     "iopub.execute_input": "2022-10-18T10:49:02.113920Z",
     "iopub.status.busy": "2022-10-18T10:49:02.113433Z",
     "iopub.status.idle": "2022-10-18T10:49:02.927971Z",
     "shell.execute_reply": "2022-10-18T10:49:02.926698Z"
    },
    "papermill": {
     "duration": 0.833572,
     "end_time": "2022-10-18T10:49:02.930189",
     "exception": false,
     "start_time": "2022-10-18T10:49:02.096617",
     "status": "completed"
    },
    "tags": []
   },
   "outputs": [
    {
     "data": {
      "image/png": "[encoded data removed]",
      "text/plain": [
       "<Figure size 360x360 with 1 Axes>"
      ]
     },
     "metadata": {
      "needs_background": "light"
     },
     "output_type": "display_data"
    },
    {
     "name": "stdout",
     "output_type": "stream",
     "text": [
      "gender: \n",
      " 1    517\n",
      "0    483\n",
      "Name: gender, dtype: int64\n"
     ]
    },
    {
     "data": {
      "image/png": "[encoded data removed]",
      "text/plain": [
       "<Figure size 360x360 with 1 Axes>"
      ]
     },
     "metadata": {
      "needs_background": "light"
     },
     "output_type": "display_data"
    },
    {
     "name": "stdout",
     "output_type": "stream",
     "text": [
      "race_ethnicity: \n",
      " 2    323\n",
      "3    262\n",
      "1    205\n",
      "4    131\n",
      "0     79\n",
      "Name: race_ethnicity, dtype: int64\n"
     ]
    },
    {
     "data": {
      "image/png": "[encoded data removed]",
      "text/plain": [
       "<Figure size 360x360 with 1 Axes>"
      ]
     },
     "metadata": {
      "needs_background": "light"
     },
     "output_type": "display_data"
    },
    {
     "name": "stdout",
     "output_type": "stream",
     "text": [
      "Education: \n",
      " 4    222\n",
      "0    203\n",
      "2    202\n",
      "5    191\n",
      "1    112\n",
      "3     70\n",
      "Name: Education, dtype: int64\n"
     ]
    },
    {
     "data": {
      "image/png": "[encoded data removed]",
      "text/plain": [
       "<Figure size 360x360 with 1 Axes>"
      ]
     },
     "metadata": {
      "needs_background": "light"
     },
     "output_type": "display_data"
    },
    {
     "name": "stdout",
     "output_type": "stream",
     "text": [
      "lunch: \n",
      " 1    652\n",
      "0    348\n",
      "Name: lunch, dtype: int64\n"
     ]
    },
    {
     "data": {
      "image/png": "[encoded data removed]",
      "text/plain": [
       "<Figure size 360x360 with 1 Axes>"
      ]
     },
     "metadata": {
      "needs_background": "light"
     },
     "output_type": "display_data"
    },
    {
     "name": "stdout",
     "output_type": "stream",
     "text": [
      "test_preparation_course: \n",
      " 1    665\n",
      "0    335\n",
      "Name: test_preparation_course, dtype: int64\n"
     ]
    }
   ],
   "source": [
    "category1 = [\"gender\",\"race_ethnicity\",\"Education\",\"lunch\",\"test_preparation_course\"]\n",
    "\n",
    "for c in category1:\n",
    "    \n",
    "    bar_plot(c)"
   ]
  },
  {
   "cell_type": "markdown",
   "id": "ab9de711",
   "metadata": {
    "papermill": {
     "duration": 0.016336,
     "end_time": "2022-10-18T10:49:02.964745",
     "exception": false,
     "start_time": "2022-10-18T10:49:02.948409",
     "status": "completed"
    },
    "tags": []
   },
   "source": [
    "\n",
    "> <div class=\"alert alert-block alert-warning\">\n",
    "<b></b> <strong>These graphs have been drawn to give us a little bit of information.\n",
    "</strong></div>"
   ]
  },
  {
   "cell_type": "code",
   "execution_count": 17,
   "id": "7adac4f6",
   "metadata": {
    "execution": {
     "iopub.execute_input": "2022-10-18T10:49:03.000951Z",
     "iopub.status.busy": "2022-10-18T10:49:03.000121Z",
     "iopub.status.idle": "2022-10-18T10:49:03.009735Z",
     "shell.execute_reply": "2022-10-18T10:49:03.008681Z"
    },
    "papermill": {
     "duration": 0.030863,
     "end_time": "2022-10-18T10:49:03.012216",
     "exception": false,
     "start_time": "2022-10-18T10:49:02.981353",
     "status": "completed"
    },
    "tags": []
   },
   "outputs": [
    {
     "data": {
      "text/plain": [
       "group C    323\n",
       "group D    262\n",
       "group B    205\n",
       "group E    131\n",
       "group A     79\n",
       "Name: race_ethnicity, dtype: int64"
      ]
     },
     "execution_count": 17,
     "metadata": {},
     "output_type": "execute_result"
    }
   ],
   "source": [
    "df.race_ethnicity.value_counts()"
   ]
  },
  {
   "cell_type": "code",
   "execution_count": 18,
   "id": "a9e0c188",
   "metadata": {
    "execution": {
     "iopub.execute_input": "2022-10-18T10:49:03.047816Z",
     "iopub.status.busy": "2022-10-18T10:49:03.047000Z",
     "iopub.status.idle": "2022-10-18T10:49:03.178132Z",
     "shell.execute_reply": "2022-10-18T10:49:03.176963Z"
    },
    "papermill": {
     "duration": 0.15166,
     "end_time": "2022-10-18T10:49:03.180549",
     "exception": false,
     "start_time": "2022-10-18T10:49:03.028889",
     "status": "completed"
    },
    "tags": []
   },
   "outputs": [
    {
     "data": {
      "image/png": "[encoded data removed]",
      "text/plain": [
       "<Figure size 432x288 with 1 Axes>"
      ]
     },
     "metadata": {
      "needs_background": "light"
     },
     "output_type": "display_data"
    }
   ],
   "source": [
    "sns.countplot(data=df,x=\"race_ethnicity\")\n",
    "plt.show()"
   ]
  },
  {
   "cell_type": "markdown",
   "id": "79409c79",
   "metadata": {
    "papermill": {
     "duration": 0.017646,
     "end_time": "2022-10-18T10:49:03.215669",
     "exception": false,
     "start_time": "2022-10-18T10:49:03.198023",
     "status": "completed"
    },
    "tags": []
   },
   "source": [
    "> <div class=\"alert alert-block alert-warning\">\n",
    "<b></b> <strong>This graph indicates that there are more people in group C.\n",
    "</strong></div>"
   ]
  },
  {
   "cell_type": "code",
   "execution_count": 110,
   "id": "0bb3fd1b",
   "metadata": {
    "execution": {
     "iopub.execute_input": "2022-10-18T10:49:03.301194Z",
     "iopub.status.busy": "2022-10-18T10:49:03.300379Z",
     "iopub.status.idle": "2022-10-18T10:49:03.443370Z",
     "shell.execute_reply": "2022-10-18T10:49:03.442156Z"
    },
    "papermill": {
     "duration": 0.164186,
     "end_time": "2022-10-18T10:49:03.445959",
     "exception": false,
     "start_time": "2022-10-18T10:49:03.281773",
     "status": "completed"
    },
    "tags": []
   },
   "outputs": [
    {
     "data": {
      "image/png": "[encoded data removed]",
      "text/plain": [
       "<Figure size 432x288 with 1 Axes>"
      ]
     },
     "metadata": {},
     "output_type": "display_data"
    }
   ],
   "source": [
    "# Pie chart, where the slices will be ordered and plotted counter-clockwise:\n",
    "labels = df[\"race_ethnicity\"].value_counts().index\n",
    "sizes = df[\"race_ethnicity\"].value_counts()\n",
    "\n",
    "fig1, ax1 = plt.subplots()\n",
    "ax1.pie(sizes, labels=labels, autopct='%1.1f%%',\n",
    "        shadow=True, startangle=90)\n",
    "ax1.axis('equal')  # Equal aspect ratio ensures that pie is drawn as a circle.\n",
    "\n",
    "plt.show()"
   ]
  },
  {
   "cell_type": "markdown",
   "id": "453ec112",
   "metadata": {
    "papermill": {
     "duration": 0.017195,
     "end_time": "2022-10-18T10:49:03.481257",
     "exception": false,
     "start_time": "2022-10-18T10:49:03.464062",
     "status": "completed"
    },
    "tags": []
   },
   "source": [
    "> <div class=\"alert alert-block alert-warning\">\n",
    "<b></b> <strong>This pie chart shows that there are more people in group C than others.\n",
    "</strong></div>"
   ]
  },
  {
   "cell_type": "code",
   "execution_count": 105,
   "id": "fab01af2",
   "metadata": {
    "execution": {
     "iopub.execute_input": "2022-10-18T10:49:03.518639Z",
     "iopub.status.busy": "2022-10-18T10:49:03.517825Z",
     "iopub.status.idle": "2022-10-18T10:49:03.695020Z",
     "shell.execute_reply": "2022-10-18T10:49:03.693769Z"
    },
    "papermill": {
     "duration": 0.198654,
     "end_time": "2022-10-18T10:49:03.697508",
     "exception": false,
     "start_time": "2022-10-18T10:49:03.498854",
     "status": "completed"
    },
    "tags": []
   },
   "outputs": [
    {
     "data": {
      "image/png": "[encoded data removed]",
      "text/plain": [
       "<Figure size 432x288 with 1 Axes>"
      ]
     },
     "metadata": {
      "needs_background": "light"
     },
     "output_type": "display_data"
    }
   ],
   "source": [
    "sns.countplot(x=df[\"race_ethnicity\"], hue=df[\"gender\"], palette=\"bone\")\n",
    "plt.xlabel(\"Race/Ethnicity\")\n",
    "plt.ylabel(\"Frequency\")\n",
    "plt.show()"
   ]
  },
  {
   "cell_type": "code",
   "execution_count": 24,
   "id": "385be1cc",
   "metadata": {
    "execution": {
     "iopub.execute_input": "2022-10-18T10:49:04.237080Z",
     "iopub.status.busy": "2022-10-18T10:49:04.236657Z",
     "iopub.status.idle": "2022-10-18T10:49:04.246906Z",
     "shell.execute_reply": "2022-10-18T10:49:04.245932Z"
    },
    "papermill": {
     "duration": 0.032237,
     "end_time": "2022-10-18T10:49:04.249262",
     "exception": false,
     "start_time": "2022-10-18T10:49:04.217025",
     "status": "completed"
    },
    "tags": []
   },
   "outputs": [
    {
     "data": {
      "text/plain": [
       "group C    154\n",
       "group D    126\n",
       "group B    114\n",
       "group E     52\n",
       "group A     37\n",
       "Name: race_ethnicity, dtype: int64"
      ]
     },
     "execution_count": 24,
     "metadata": {},
     "output_type": "execute_result"
    }
   ],
   "source": [
    "df[df.gender==\"female\"].race_ethnicity.value_counts()"
   ]
  },
  {
   "cell_type": "code",
   "execution_count": 25,
   "id": "9e02caaf",
   "metadata": {
    "execution": {
     "iopub.execute_input": "2022-10-18T10:49:04.288475Z",
     "iopub.status.busy": "2022-10-18T10:49:04.287325Z",
     "iopub.status.idle": "2022-10-18T10:49:04.409797Z",
     "shell.execute_reply": "2022-10-18T10:49:04.408843Z"
    },
    "papermill": {
     "duration": 0.145238,
     "end_time": "2022-10-18T10:49:04.412905",
     "exception": false,
     "start_time": "2022-10-18T10:49:04.267667",
     "status": "completed"
    },
    "tags": []
   },
   "outputs": [
    {
     "data": {
      "image/png": "[encoded data removed]",
      "text/plain": [
       "<Figure size 432x288 with 1 Axes>"
      ]
     },
     "metadata": {
      "needs_background": "light"
     },
     "output_type": "display_data"
    }
   ],
   "source": [
    "sns.countplot(data=df,x=df[df.gender==\"female\"].race_ethnicity.value_counts())\n",
    "plt.show()"
   ]
  },
  {
   "cell_type": "code",
   "execution_count": 26,
   "id": "77fdf54e",
   "metadata": {
    "execution": {
     "iopub.execute_input": "2022-10-18T10:49:04.454773Z",
     "iopub.status.busy": "2022-10-18T10:49:04.454007Z",
     "iopub.status.idle": "2022-10-18T10:49:04.464218Z",
     "shell.execute_reply": "2022-10-18T10:49:04.463366Z"
    },
    "papermill": {
     "duration": 0.032698,
     "end_time": "2022-10-18T10:49:04.466558",
     "exception": false,
     "start_time": "2022-10-18T10:49:04.433860",
     "status": "completed"
    },
    "tags": []
   },
   "outputs": [
    {
     "data": {
      "text/plain": [
       "some college          222\n",
       "associate's degree    203\n",
       "high school           202\n",
       "some high school      191\n",
       "bachelor's degree     112\n",
       "master's degree        70\n",
       "Name: Education, dtype: int64"
      ]
     },
     "execution_count": 26,
     "metadata": {},
     "output_type": "execute_result"
    }
   ],
   "source": [
    "df.Education.value_counts()\n"
   ]
  },
  {
   "cell_type": "code",
   "execution_count": 27,
   "id": "715d5693",
   "metadata": {
    "execution": {
     "iopub.execute_input": "2022-10-18T10:49:04.506445Z",
     "iopub.status.busy": "2022-10-18T10:49:04.505644Z",
     "iopub.status.idle": "2022-10-18T10:49:04.643470Z",
     "shell.execute_reply": "2022-10-18T10:49:04.642604Z"
    },
    "papermill": {
     "duration": 0.16075,
     "end_time": "2022-10-18T10:49:04.646027",
     "exception": false,
     "start_time": "2022-10-18T10:49:04.485277",
     "status": "completed"
    },
    "tags": []
   },
   "outputs": [
    {
     "data": {
      "image/png": "[encoded data removed]",
      "text/plain": [
       "<Figure size 432x288 with 1 Axes>"
      ]
     },
     "metadata": {
      "needs_background": "light"
     },
     "output_type": "display_data"
    }
   ],
   "source": [
    "plt.xticks(rotation=45)\n",
    "sns.countplot(data=df,x=\"Education\",palette=\"Paired\")\n",
    "plt.show()"
   ]
  },
  {
   "cell_type": "code",
   "execution_count": 28,
   "id": "25541445",
   "metadata": {
    "execution": {
     "iopub.execute_input": "2022-10-18T10:49:04.686924Z",
     "iopub.status.busy": "2022-10-18T10:49:04.686117Z",
     "iopub.status.idle": "2022-10-18T10:49:04.826279Z",
     "shell.execute_reply": "2022-10-18T10:49:04.825334Z"
    },
    "papermill": {
     "duration": 0.163262,
     "end_time": "2022-10-18T10:49:04.828871",
     "exception": false,
     "start_time": "2022-10-18T10:49:04.665609",
     "status": "completed"
    },
    "tags": []
   },
   "outputs": [
    {
     "data": {
      "image/png": "[encoded data removed]",
      "text/plain": [
       "<Figure size 432x288 with 1 Axes>"
      ]
     },
     "metadata": {},
     "output_type": "display_data"
    }
   ],
   "source": [
    "labels = df[\"Education\"].value_counts().index\n",
    "sizes = df[\"Education\"].value_counts()\n",
    "\n",
    "fig1, ax1 = plt.subplots()\n",
    "ax1.pie(sizes, labels=labels, autopct='%1.1f%%',\n",
    "        shadow=True, startangle=90)\n",
    "ax1.axis('equal')  # Equal aspect ratio ensures that pie is drawn as a circle.\n",
    "\n",
    "plt.show()"
   ]
  },
  {
   "cell_type": "code",
   "execution_count": 29,
   "id": "d21258d3",
   "metadata": {
    "execution": {
     "iopub.execute_input": "2022-10-18T10:49:04.871855Z",
     "iopub.status.busy": "2022-10-18T10:49:04.871007Z",
     "iopub.status.idle": "2022-10-18T10:49:04.880075Z",
     "shell.execute_reply": "2022-10-18T10:49:04.879044Z"
    },
    "papermill": {
     "duration": 0.032826,
     "end_time": "2022-10-18T10:49:04.882402",
     "exception": false,
     "start_time": "2022-10-18T10:49:04.849576",
     "status": "completed"
    },
    "tags": []
   },
   "outputs": [
    {
     "data": {
      "text/plain": [
       "male      517\n",
       "female    483\n",
       "Name: gender, dtype: int64"
      ]
     },
     "execution_count": 29,
     "metadata": {},
     "output_type": "execute_result"
    }
   ],
   "source": [
    "df.gender.value_counts()\n"
   ]
  },
  {
   "cell_type": "code",
   "execution_count": 30,
   "id": "ed447a28",
   "metadata": {
    "execution": {
     "iopub.execute_input": "2022-10-18T10:49:04.924463Z",
     "iopub.status.busy": "2022-10-18T10:49:04.923573Z",
     "iopub.status.idle": "2022-10-18T10:49:05.026606Z",
     "shell.execute_reply": "2022-10-18T10:49:05.025698Z"
    },
    "papermill": {
     "duration": 0.126707,
     "end_time": "2022-10-18T10:49:05.029132",
     "exception": false,
     "start_time": "2022-10-18T10:49:04.902425",
     "status": "completed"
    },
    "tags": []
   },
   "outputs": [
    {
     "data": {
      "image/png": "[encoded data removed]",
      "text/plain": [
       "<Figure size 432x288 with 1 Axes>"
      ]
     },
     "metadata": {
      "needs_background": "light"
     },
     "output_type": "display_data"
    }
   ],
   "source": [
    "sns.countplot(data=df,x=\"gender\",palette=\"crest_r\")\n",
    "plt.show()"
   ]
  },
  {
   "cell_type": "code",
   "execution_count": 31,
   "id": "3b49c88a",
   "metadata": {
    "execution": {
     "iopub.execute_input": "2022-10-18T10:49:05.071567Z",
     "iopub.status.busy": "2022-10-18T10:49:05.071165Z",
     "iopub.status.idle": "2022-10-18T10:49:05.080282Z",
     "shell.execute_reply": "2022-10-18T10:49:05.079375Z"
    },
    "papermill": {
     "duration": 0.032694,
     "end_time": "2022-10-18T10:49:05.082597",
     "exception": false,
     "start_time": "2022-10-18T10:49:05.049903",
     "status": "completed"
    },
    "tags": []
   },
   "outputs": [
    {
     "data": {
      "text/plain": [
       "standard        652\n",
       "free/reduced    348\n",
       "Name: lunch, dtype: int64"
      ]
     },
     "execution_count": 31,
     "metadata": {},
     "output_type": "execute_result"
    }
   ],
   "source": [
    "df.lunch.value_counts()\n"
   ]
  },
  {
   "cell_type": "code",
   "execution_count": 32,
   "id": "482cc4c3",
   "metadata": {
    "execution": {
     "iopub.execute_input": "2022-10-18T10:49:05.123904Z",
     "iopub.status.busy": "2022-10-18T10:49:05.123469Z",
     "iopub.status.idle": "2022-10-18T10:49:05.233494Z",
     "shell.execute_reply": "2022-10-18T10:49:05.232680Z"
    },
    "papermill": {
     "duration": 0.133854,
     "end_time": "2022-10-18T10:49:05.235925",
     "exception": false,
     "start_time": "2022-10-18T10:49:05.102071",
     "status": "completed"
    },
    "tags": []
   },
   "outputs": [
    {
     "data": {
      "image/png": "[encoded data removed]",
      "text/plain": [
       "<Figure size 432x288 with 1 Axes>"
      ]
     },
     "metadata": {
      "needs_background": "light"
     },
     "output_type": "display_data"
    }
   ],
   "source": [
    "sns.countplot(data=df, x=\"lunch\",palette=\"RdYlGn_r\")\n",
    "plt.show()"
   ]
  },
  {
   "cell_type": "code",
   "execution_count": 33,
   "id": "65b0ea6d",
   "metadata": {
    "execution": {
     "iopub.execute_input": "2022-10-18T10:49:05.285003Z",
     "iopub.status.busy": "2022-10-18T10:49:05.284105Z",
     "iopub.status.idle": "2022-10-18T10:49:05.293437Z",
     "shell.execute_reply": "2022-10-18T10:49:05.292380Z"
    },
    "papermill": {
     "duration": 0.038556,
     "end_time": "2022-10-18T10:49:05.295819",
     "exception": false,
     "start_time": "2022-10-18T10:49:05.257263",
     "status": "completed"
    },
    "tags": []
   },
   "outputs": [
    {
     "data": {
      "text/plain": [
       "none         665\n",
       "completed    335\n",
       "Name: test_preparation_course, dtype: int64"
      ]
     },
     "execution_count": 33,
     "metadata": {},
     "output_type": "execute_result"
    }
   ],
   "source": [
    "df.test_preparation_course.value_counts()"
   ]
  },
  {
   "cell_type": "code",
   "execution_count": 34,
   "id": "02a85163",
   "metadata": {
    "execution": {
     "iopub.execute_input": "2022-10-18T10:49:05.338787Z",
     "iopub.status.busy": "2022-10-18T10:49:05.337513Z",
     "iopub.status.idle": "2022-10-18T10:49:05.512578Z",
     "shell.execute_reply": "2022-10-18T10:49:05.511378Z"
    },
    "papermill": {
     "duration": 0.199032,
     "end_time": "2022-10-18T10:49:05.515130",
     "exception": false,
     "start_time": "2022-10-18T10:49:05.316098",
     "status": "completed"
    },
    "tags": []
   },
   "outputs": [
    {
     "data": {
      "image/png": "[encoded data removed]",
      "text/plain": [
       "<Figure size 432x288 with 1 Axes>"
      ]
     },
     "metadata": {
      "needs_background": "light"
     },
     "output_type": "display_data"
    }
   ],
   "source": [
    "sns.countplot(data=df, x=\"test_preparation_course\",palette=\"autumn\")\n",
    "plt.show()"
   ]
  },
  {
   "cell_type": "code",
   "execution_count": 35,
   "id": "b24cfcf8",
   "metadata": {
    "execution": {
     "iopub.execute_input": "2022-10-18T10:49:05.558751Z",
     "iopub.status.busy": "2022-10-18T10:49:05.557650Z",
     "iopub.status.idle": "2022-10-18T10:49:05.929640Z",
     "shell.execute_reply": "2022-10-18T10:49:05.928273Z"
    },
    "papermill": {
     "duration": 0.396821,
     "end_time": "2022-10-18T10:49:05.932319",
     "exception": false,
     "start_time": "2022-10-18T10:49:05.535498",
     "status": "completed"
    },
    "tags": []
   },
   "outputs": [
    {
     "data": {
      "image/png": "[encoded data removed]",
      "text/plain": [
       "<Figure size 432x288 with 1 Axes>"
      ]
     },
     "metadata": {
      "needs_background": "light"
     },
     "output_type": "display_data"
    }
   ],
   "source": [
    "sns.barplot(data=df, x=\"math_score\", y=\"Education\")\n",
    "plt.show()\n"
   ]
  },
  {
   "cell_type": "code",
   "execution_count": 36,
   "id": "593f3c39",
   "metadata": {
    "execution": {
     "iopub.execute_input": "2022-10-18T10:49:05.975495Z",
     "iopub.status.busy": "2022-10-18T10:49:05.975059Z",
     "iopub.status.idle": "2022-10-18T10:49:05.990412Z",
     "shell.execute_reply": "2022-10-18T10:49:05.989300Z"
    },
    "papermill": {
     "duration": 0.039788,
     "end_time": "2022-10-18T10:49:05.992661",
     "exception": false,
     "start_time": "2022-10-18T10:49:05.952873",
     "status": "completed"
    },
    "tags": []
   },
   "outputs": [
    {
     "data": {
      "text/html": [
       "<div>\n",
       "<style scoped>\n",
       "    .dataframe tbody tr th:only-of-type {\n",
       "        vertical-align: middle;\n",
       "    }\n",
       "\n",
       "    .dataframe tbody tr th {\n",
       "        vertical-align: top;\n",
       "    }\n",
       "\n",
       "    .dataframe thead th {\n",
       "        text-align: right;\n",
       "    }\n",
       "</style>\n",
       "<table border=\"1\" class=\"dataframe\">\n",
       "  <thead>\n",
       "    <tr style=\"text-align: right;\">\n",
       "      <th></th>\n",
       "      <th>gender</th>\n",
       "      <th>race_ethnicity</th>\n",
       "      <th>Education</th>\n",
       "      <th>lunch</th>\n",
       "      <th>test_preparation_course</th>\n",
       "      <th>math_score</th>\n",
       "      <th>reading_score</th>\n",
       "      <th>writing_score</th>\n",
       "    </tr>\n",
       "  </thead>\n",
       "  <tbody>\n",
       "    <tr>\n",
       "      <th>0</th>\n",
       "      <td>male</td>\n",
       "      <td>group A</td>\n",
       "      <td>high school</td>\n",
       "      <td>standard</td>\n",
       "      <td>completed</td>\n",
       "      <td>67</td>\n",
       "      <td>67</td>\n",
       "      <td>63</td>\n",
       "    </tr>\n",
       "    <tr>\n",
       "      <th>1</th>\n",
       "      <td>female</td>\n",
       "      <td>group D</td>\n",
       "      <td>some high school</td>\n",
       "      <td>free/reduced</td>\n",
       "      <td>none</td>\n",
       "      <td>40</td>\n",
       "      <td>59</td>\n",
       "      <td>55</td>\n",
       "    </tr>\n",
       "    <tr>\n",
       "      <th>2</th>\n",
       "      <td>male</td>\n",
       "      <td>group E</td>\n",
       "      <td>some college</td>\n",
       "      <td>free/reduced</td>\n",
       "      <td>none</td>\n",
       "      <td>59</td>\n",
       "      <td>60</td>\n",
       "      <td>50</td>\n",
       "    </tr>\n",
       "    <tr>\n",
       "      <th>3</th>\n",
       "      <td>male</td>\n",
       "      <td>group B</td>\n",
       "      <td>high school</td>\n",
       "      <td>standard</td>\n",
       "      <td>none</td>\n",
       "      <td>77</td>\n",
       "      <td>78</td>\n",
       "      <td>68</td>\n",
       "    </tr>\n",
       "    <tr>\n",
       "      <th>4</th>\n",
       "      <td>male</td>\n",
       "      <td>group E</td>\n",
       "      <td>associate's degree</td>\n",
       "      <td>standard</td>\n",
       "      <td>completed</td>\n",
       "      <td>78</td>\n",
       "      <td>73</td>\n",
       "      <td>68</td>\n",
       "    </tr>\n",
       "  </tbody>\n",
       "</table>\n",
       "</div>"
      ],
      "text/plain": [
       "   gender race_ethnicity           Education         lunch  \\\n",
       "0    male        group A         high school      standard   \n",
       "1  female        group D    some high school  free/reduced   \n",
       "2    male        group E        some college  free/reduced   \n",
       "3    male        group B         high school      standard   \n",
       "4    male        group E  associate's degree      standard   \n",
       "\n",
       "  test_preparation_course  math_score  reading_score  writing_score  \n",
       "0               completed          67             67             63  \n",
       "1                    none          40             59             55  \n",
       "2                    none          59             60             50  \n",
       "3                    none          77             78             68  \n",
       "4               completed          78             73             68  "
      ]
     },
     "execution_count": 36,
     "metadata": {},
     "output_type": "execute_result"
    }
   ],
   "source": [
    "df.head()"
   ]
  },
  {
   "cell_type": "markdown",
   "id": "3ca5268c",
   "metadata": {
    "papermill": {
     "duration": 0.020565,
     "end_time": "2022-10-18T10:49:06.035427",
     "exception": false,
     "start_time": "2022-10-18T10:49:06.014862",
     "status": "completed"
    },
    "tags": []
   },
   "source": [
    "### test_preparation_course-math_score\n",
    "### test_preparation_course-reading_score\n",
    "### test_preparation_course-writing_score\n"
   ]
  },
  {
   "cell_type": "code",
   "execution_count": 37,
   "id": "c27b99f5",
   "metadata": {
    "execution": {
     "iopub.execute_input": "2022-10-18T10:49:06.079923Z",
     "iopub.status.busy": "2022-10-18T10:49:06.079448Z",
     "iopub.status.idle": "2022-10-18T10:49:06.407789Z",
     "shell.execute_reply": "2022-10-18T10:49:06.406492Z"
    },
    "papermill": {
     "duration": 0.35364,
     "end_time": "2022-10-18T10:49:06.410344",
     "exception": false,
     "start_time": "2022-10-18T10:49:06.056704",
     "status": "completed"
    },
    "tags": []
   },
   "outputs": [
    {
     "data": {
      "image/png": "[encoded data removed]",
      "text/plain": [
       "<Figure size 360x360 with 1 Axes>"
      ]
     },
     "metadata": {
      "needs_background": "light"
     },
     "output_type": "display_data"
    }
   ],
   "source": [
    "sns.catplot(data=df,x=\"test_preparation_course\",y=\"math_score\",kind=\"bar\",palette=\"crest\")\n",
    "plt.show()"
   ]
  },
  {
   "cell_type": "code",
   "execution_count": 38,
   "id": "6799c663",
   "metadata": {
    "execution": {
     "iopub.execute_input": "2022-10-18T10:49:06.454375Z",
     "iopub.status.busy": "2022-10-18T10:49:06.453928Z",
     "iopub.status.idle": "2022-10-18T10:49:06.947826Z",
     "shell.execute_reply": "2022-10-18T10:49:06.946450Z"
    },
    "papermill": {
     "duration": 0.518929,
     "end_time": "2022-10-18T10:49:06.950374",
     "exception": false,
     "start_time": "2022-10-18T10:49:06.431445",
     "status": "completed"
    },
    "tags": []
   },
   "outputs": [
    {
     "data": {
      "image/png": "[encoded data removed]",
      "text/plain": [
       "<Figure size 360x360 with 1 Axes>"
      ]
     },
     "metadata": {
      "needs_background": "light"
     },
     "output_type": "display_data"
    }
   ],
   "source": [
    "sns.catplot(data=df,x=\"test_preparation_course\",y=\"reading_score\",kind=\"bar\",palette=\"nipy_spectral_r\")\n",
    "plt.show()"
   ]
  },
  {
   "cell_type": "code",
   "execution_count": 39,
   "id": "e48f6019",
   "metadata": {
    "execution": {
     "iopub.execute_input": "2022-10-18T10:49:06.994901Z",
     "iopub.status.busy": "2022-10-18T10:49:06.994425Z",
     "iopub.status.idle": "2022-10-18T10:49:07.324061Z",
     "shell.execute_reply": "2022-10-18T10:49:07.322828Z"
    },
    "papermill": {
     "duration": 0.35515,
     "end_time": "2022-10-18T10:49:07.326565",
     "exception": false,
     "start_time": "2022-10-18T10:49:06.971415",
     "status": "completed"
    },
    "tags": []
   },
   "outputs": [
    {
     "data": {
      "image/png": "[encoded data removed]",
      "text/plain": [
       "<Figure size 360x360 with 1 Axes>"
      ]
     },
     "metadata": {
      "needs_background": "light"
     },
     "output_type": "display_data"
    }
   ],
   "source": [
    "sns.catplot(data=df,x=\"test_preparation_course\",y=\"writing_score\",kind=\"bar\",palette=\"prism_r\")\n",
    "plt.show()"
   ]
  },
  {
   "cell_type": "markdown",
   "id": "6de53dde",
   "metadata": {
    "papermill": {
     "duration": 0.021842,
     "end_time": "2022-10-18T10:49:07.369935",
     "exception": false,
     "start_time": "2022-10-18T10:49:07.348093",
     "status": "completed"
    },
    "tags": []
   },
   "source": [
    "> <div class=\"alert alert-block alert-warning\">\n",
    "<b></b> <strong>From these tables we can conclude that the passing grade is about 70.\n",
    "</strong></div>"
   ]
  },
  {
   "cell_type": "markdown",
   "id": "83d738f2",
   "metadata": {
    "papermill": {
     "duration": 0.022797,
     "end_time": "2022-10-18T10:49:07.413966",
     "exception": false,
     "start_time": "2022-10-18T10:49:07.391169",
     "status": "completed"
    },
    "tags": []
   },
   "source": [
    "### Education-math_score \n",
    "             &\n",
    "### Education-reading_score\n",
    "             &\n",
    "### Education-writing_score    "
   ]
  },
  {
   "cell_type": "code",
   "execution_count": 40,
   "id": "d6a1a092",
   "metadata": {
    "execution": {
     "iopub.execute_input": "2022-10-18T10:49:07.459374Z",
     "iopub.status.busy": "2022-10-18T10:49:07.458634Z",
     "iopub.status.idle": "2022-10-18T10:49:07.475231Z",
     "shell.execute_reply": "2022-10-18T10:49:07.473975Z"
    },
    "papermill": {
     "duration": 0.042053,
     "end_time": "2022-10-18T10:49:07.477622",
     "exception": false,
     "start_time": "2022-10-18T10:49:07.435569",
     "status": "completed"
    },
    "tags": []
   },
   "outputs": [
    {
     "data": {
      "text/html": [
       "<div>\n",
       "<style scoped>\n",
       "    .dataframe tbody tr th:only-of-type {\n",
       "        vertical-align: middle;\n",
       "    }\n",
       "\n",
       "    .dataframe tbody tr th {\n",
       "        vertical-align: top;\n",
       "    }\n",
       "\n",
       "    .dataframe thead th {\n",
       "        text-align: right;\n",
       "    }\n",
       "</style>\n",
       "<table border=\"1\" class=\"dataframe\">\n",
       "  <thead>\n",
       "    <tr style=\"text-align: right;\">\n",
       "      <th></th>\n",
       "      <th>math_score</th>\n",
       "      <th>reading_score</th>\n",
       "      <th>writing_score</th>\n",
       "    </tr>\n",
       "    <tr>\n",
       "      <th>Education</th>\n",
       "      <th></th>\n",
       "      <th></th>\n",
       "      <th></th>\n",
       "    </tr>\n",
       "  </thead>\n",
       "  <tbody>\n",
       "    <tr>\n",
       "      <th>master's degree</th>\n",
       "      <td>71.585714</td>\n",
       "      <td>75.428571</td>\n",
       "      <td>75.885714</td>\n",
       "    </tr>\n",
       "    <tr>\n",
       "      <th>bachelor's degree</th>\n",
       "      <td>71.491071</td>\n",
       "      <td>74.008929</td>\n",
       "      <td>74.410714</td>\n",
       "    </tr>\n",
       "    <tr>\n",
       "      <th>associate's degree</th>\n",
       "      <td>69.536946</td>\n",
       "      <td>70.985222</td>\n",
       "      <td>70.113300</td>\n",
       "    </tr>\n",
       "    <tr>\n",
       "      <th>some college</th>\n",
       "      <td>65.297297</td>\n",
       "      <td>68.045045</td>\n",
       "      <td>66.734234</td>\n",
       "    </tr>\n",
       "    <tr>\n",
       "      <th>high school</th>\n",
       "      <td>65.207921</td>\n",
       "      <td>67.400990</td>\n",
       "      <td>64.846535</td>\n",
       "    </tr>\n",
       "    <tr>\n",
       "      <th>some high school</th>\n",
       "      <td>60.701571</td>\n",
       "      <td>64.408377</td>\n",
       "      <td>62.539267</td>\n",
       "    </tr>\n",
       "  </tbody>\n",
       "</table>\n",
       "</div>"
      ],
      "text/plain": [
       "                    math_score  reading_score  writing_score\n",
       "Education                                                   \n",
       "master's degree      71.585714      75.428571      75.885714\n",
       "bachelor's degree    71.491071      74.008929      74.410714\n",
       "associate's degree   69.536946      70.985222      70.113300\n",
       "some college         65.297297      68.045045      66.734234\n",
       "high school          65.207921      67.400990      64.846535\n",
       "some high school     60.701571      64.408377      62.539267"
      ]
     },
     "execution_count": 40,
     "metadata": {},
     "output_type": "execute_result"
    }
   ],
   "source": [
    "y=df[[\"Education\",\"math_score\",\"reading_score\",\"writing_score\"]].groupby([\"Education\"]).mean().sort_values(by=\"math_score\",ascending = False)\n",
    "y\n"
   ]
  },
  {
   "cell_type": "code",
   "execution_count": 41,
   "id": "5d5196be",
   "metadata": {
    "execution": {
     "iopub.execute_input": "2022-10-18T10:49:07.523196Z",
     "iopub.status.busy": "2022-10-18T10:49:07.522731Z",
     "iopub.status.idle": "2022-10-18T10:49:07.980083Z",
     "shell.execute_reply": "2022-10-18T10:49:07.978677Z"
    },
    "papermill": {
     "duration": 0.4833,
     "end_time": "2022-10-18T10:49:07.982712",
     "exception": false,
     "start_time": "2022-10-18T10:49:07.499412",
     "status": "completed"
    },
    "tags": []
   },
   "outputs": [
    {
     "data": {
      "image/png": "[encoded data removed]",
      "text/plain": [
       "<Figure size 360x360 with 1 Axes>"
      ]
     },
     "metadata": {
      "needs_background": "light"
     },
     "output_type": "display_data"
    }
   ],
   "source": [
    "sns.catplot(x=\"Education\",y=\"math_score\",data=df, palette=\"ocean\",kind=\"bar\")\n",
    "plt.xticks(rotation=90)\n",
    "plt.show()"
   ]
  },
  {
   "cell_type": "code",
   "execution_count": 42,
   "id": "3e51305e",
   "metadata": {
    "execution": {
     "iopub.execute_input": "2022-10-18T10:49:08.031385Z",
     "iopub.status.busy": "2022-10-18T10:49:08.030989Z",
     "iopub.status.idle": "2022-10-18T10:49:08.497780Z",
     "shell.execute_reply": "2022-10-18T10:49:08.496764Z"
    },
    "papermill": {
     "duration": 0.493676,
     "end_time": "2022-10-18T10:49:08.500160",
     "exception": false,
     "start_time": "2022-10-18T10:49:08.006484",
     "status": "completed"
    },
    "tags": []
   },
   "outputs": [
    {
     "data": {
      "image/png": "[encoded data removed]",
      "text/plain": [
       "<Figure size 360x360 with 1 Axes>"
      ]
     },
     "metadata": {
      "needs_background": "light"
     },
     "output_type": "display_data"
    }
   ],
   "source": [
    "sns.catplot(data=df,x=\"Education\", y=\"reading_score\", kind=\"bar\",palette=\"BuPu\")\n",
    "plt.xticks(rotation=90)\n",
    "plt.xlabel(\"Education\")\n",
    "plt.ylabel(\"Reading Score\")\n",
    "plt.title(\"Education/Reading Score\")\n",
    "plt.show()"
   ]
  },
  {
   "cell_type": "code",
   "execution_count": 43,
   "id": "f5257a59",
   "metadata": {
    "execution": {
     "iopub.execute_input": "2022-10-18T10:49:08.546567Z",
     "iopub.status.busy": "2022-10-18T10:49:08.545892Z",
     "iopub.status.idle": "2022-10-18T10:49:09.014925Z",
     "shell.execute_reply": "2022-10-18T10:49:09.013676Z"
    },
    "papermill": {
     "duration": 0.495264,
     "end_time": "2022-10-18T10:49:09.017452",
     "exception": false,
     "start_time": "2022-10-18T10:49:08.522188",
     "status": "completed"
    },
    "tags": []
   },
   "outputs": [
    {
     "data": {
      "image/png": "[encoded data removed]",
      "text/plain": [
       "<Figure size 360x360 with 1 Axes>"
      ]
     },
     "metadata": {
      "needs_background": "light"
     },
     "output_type": "display_data"
    }
   ],
   "source": [
    "sns.catplot(data=df,x=\"Education\",y=\"writing_score\",kind=\"bar\",palette=\"tab20\")\n",
    "plt.xticks(rotation=90)\n",
    "plt.show()"
   ]
  },
  {
   "cell_type": "code",
   "execution_count": 44,
   "id": "e83c3495",
   "metadata": {
    "execution": {
     "iopub.execute_input": "2022-10-18T10:49:09.065598Z",
     "iopub.status.busy": "2022-10-18T10:49:09.064950Z",
     "iopub.status.idle": "2022-10-18T10:49:09.077545Z",
     "shell.execute_reply": "2022-10-18T10:49:09.076300Z"
    },
    "papermill": {
     "duration": 0.039539,
     "end_time": "2022-10-18T10:49:09.080175",
     "exception": false,
     "start_time": "2022-10-18T10:49:09.040636",
     "status": "completed"
    },
    "tags": []
   },
   "outputs": [
    {
     "data": {
      "text/html": [
       "<div>\n",
       "<style scoped>\n",
       "    .dataframe tbody tr th:only-of-type {\n",
       "        vertical-align: middle;\n",
       "    }\n",
       "\n",
       "    .dataframe tbody tr th {\n",
       "        vertical-align: top;\n",
       "    }\n",
       "\n",
       "    .dataframe thead th {\n",
       "        text-align: right;\n",
       "    }\n",
       "</style>\n",
       "<table border=\"1\" class=\"dataframe\">\n",
       "  <thead>\n",
       "    <tr style=\"text-align: right;\">\n",
       "      <th></th>\n",
       "      <th>race_ethnicity</th>\n",
       "      <th>math_score</th>\n",
       "    </tr>\n",
       "  </thead>\n",
       "  <tbody>\n",
       "    <tr>\n",
       "      <th>0</th>\n",
       "      <td>group A</td>\n",
       "      <td>67</td>\n",
       "    </tr>\n",
       "    <tr>\n",
       "      <th>1</th>\n",
       "      <td>group D</td>\n",
       "      <td>40</td>\n",
       "    </tr>\n",
       "    <tr>\n",
       "      <th>2</th>\n",
       "      <td>group E</td>\n",
       "      <td>59</td>\n",
       "    </tr>\n",
       "    <tr>\n",
       "      <th>3</th>\n",
       "      <td>group B</td>\n",
       "      <td>77</td>\n",
       "    </tr>\n",
       "    <tr>\n",
       "      <th>4</th>\n",
       "      <td>group E</td>\n",
       "      <td>78</td>\n",
       "    </tr>\n",
       "  </tbody>\n",
       "</table>\n",
       "</div>"
      ],
      "text/plain": [
       "  race_ethnicity  math_score\n",
       "0        group A          67\n",
       "1        group D          40\n",
       "2        group E          59\n",
       "3        group B          77\n",
       "4        group E          78"
      ]
     },
     "execution_count": 44,
     "metadata": {},
     "output_type": "execute_result"
    }
   ],
   "source": [
    "data1 = df['race_ethnicity'].head()\n",
    "data2= df['math_score'].head()\n",
    "conc_data_col = pd.concat([data1,data2],axis =1) # axis = 1 : adds dataframes in column\n",
    "conc_data_col"
   ]
  },
  {
   "cell_type": "markdown",
   "id": "0219cd7c",
   "metadata": {
    "papermill": {
     "duration": 0.02219,
     "end_time": "2022-10-18T10:49:09.125249",
     "exception": false,
     "start_time": "2022-10-18T10:49:09.103059",
     "status": "completed"
    },
    "tags": []
   },
   "source": [
    "### race_ethnicity-math_score   \n",
    "            &\n",
    "### race_ethnicity-reading_score \n",
    "            &\n",
    "### race_ethnicity-writing_score"
   ]
  },
  {
   "cell_type": "code",
   "execution_count": 45,
   "id": "967c37b2",
   "metadata": {
    "execution": {
     "iopub.execute_input": "2022-10-18T10:49:09.172159Z",
     "iopub.status.busy": "2022-10-18T10:49:09.171772Z",
     "iopub.status.idle": "2022-10-18T10:49:09.181048Z",
     "shell.execute_reply": "2022-10-18T10:49:09.180143Z"
    },
    "papermill": {
     "duration": 0.035177,
     "end_time": "2022-10-18T10:49:09.183191",
     "exception": false,
     "start_time": "2022-10-18T10:49:09.148014",
     "status": "completed"
    },
    "tags": []
   },
   "outputs": [
    {
     "data": {
      "text/plain": [
       "race_ethnicity\n",
       "group A    65.215190\n",
       "group B    63.170732\n",
       "group C    63.130031\n",
       "group D    69.267176\n",
       "group E    74.465649\n",
       "Name: math_score, dtype: float64"
      ]
     },
     "execution_count": 45,
     "metadata": {},
     "output_type": "execute_result"
    }
   ],
   "source": [
    "a=df.groupby([\"race_ethnicity\"])[\"math_score\"].mean()\n",
    "a"
   ]
  },
  {
   "cell_type": "code",
   "execution_count": 46,
   "id": "65dacaca",
   "metadata": {
    "execution": {
     "iopub.execute_input": "2022-10-18T10:49:09.232757Z",
     "iopub.status.busy": "2022-10-18T10:49:09.231978Z",
     "iopub.status.idle": "2022-10-18T10:49:09.670420Z",
     "shell.execute_reply": "2022-10-18T10:49:09.669191Z"
    },
    "papermill": {
     "duration": 0.466654,
     "end_time": "2022-10-18T10:49:09.673094",
     "exception": false,
     "start_time": "2022-10-18T10:49:09.206440",
     "status": "completed"
    },
    "tags": []
   },
   "outputs": [
    {
     "data": {
      "image/png": "[encoded data removed]",
      "text/plain": [
       "<Figure size 360x360 with 1 Axes>"
      ]
     },
     "metadata": {
      "needs_background": "light"
     },
     "output_type": "display_data"
    }
   ],
   "source": [
    "sns.catplot(kind=\"bar\",x=\"race_ethnicity\",y=\"math_score\",data=df,palette=\"pastel\")\n",
    "plt.show()"
   ]
  },
  {
   "cell_type": "code",
   "execution_count": 47,
   "id": "f994946b",
   "metadata": {
    "execution": {
     "iopub.execute_input": "2022-10-18T10:49:09.721556Z",
     "iopub.status.busy": "2022-10-18T10:49:09.721119Z",
     "iopub.status.idle": "2022-10-18T10:49:09.732091Z",
     "shell.execute_reply": "2022-10-18T10:49:09.731020Z"
    },
    "papermill": {
     "duration": 0.038281,
     "end_time": "2022-10-18T10:49:09.734438",
     "exception": false,
     "start_time": "2022-10-18T10:49:09.696157",
     "status": "completed"
    },
    "tags": []
   },
   "outputs": [
    {
     "data": {
      "text/plain": [
       "race_ethnicity\n",
       "group A    68.556962\n",
       "group B    67.102439\n",
       "group C    66.383901\n",
       "group D    72.087786\n",
       "group E    72.526718\n",
       "Name: reading_score, dtype: float64"
      ]
     },
     "execution_count": 47,
     "metadata": {},
     "output_type": "execute_result"
    }
   ],
   "source": [
    "df.groupby([\"race_ethnicity\"])[\"reading_score\"].mean()"
   ]
  },
  {
   "cell_type": "code",
   "execution_count": 48,
   "id": "6565dfc7",
   "metadata": {
    "execution": {
     "iopub.execute_input": "2022-10-18T10:49:09.783167Z",
     "iopub.status.busy": "2022-10-18T10:49:09.782759Z",
     "iopub.status.idle": "2022-10-18T10:49:10.197205Z",
     "shell.execute_reply": "2022-10-18T10:49:10.196114Z"
    },
    "papermill": {
     "duration": 0.442332,
     "end_time": "2022-10-18T10:49:10.199767",
     "exception": false,
     "start_time": "2022-10-18T10:49:09.757435",
     "status": "completed"
    },
    "tags": []
   },
   "outputs": [
    {
     "data": {
      "image/png": "[encoded data removed]",
      "text/plain": [
       "<Figure size 360x360 with 1 Axes>"
      ]
     },
     "metadata": {
      "needs_background": "light"
     },
     "output_type": "display_data"
    }
   ],
   "source": [
    "sns.catplot(kind=\"bar\",x=\"race_ethnicity\",y=\"reading_score\",data=df,palette=\"terrain\")\n",
    "plt.show()"
   ]
  },
  {
   "cell_type": "code",
   "execution_count": 49,
   "id": "4116615e",
   "metadata": {
    "execution": {
     "iopub.execute_input": "2022-10-18T10:49:10.249884Z",
     "iopub.status.busy": "2022-10-18T10:49:10.249355Z",
     "iopub.status.idle": "2022-10-18T10:49:10.259900Z",
     "shell.execute_reply": "2022-10-18T10:49:10.258880Z"
    },
    "papermill": {
     "duration": 0.039604,
     "end_time": "2022-10-18T10:49:10.262715",
     "exception": false,
     "start_time": "2022-10-18T10:49:10.223111",
     "status": "completed"
    },
    "tags": []
   },
   "outputs": [
    {
     "data": {
      "text/plain": [
       "race_ethnicity\n",
       "group A    66.974684\n",
       "group B    65.736585\n",
       "group C    64.523220\n",
       "group D    72.259542\n",
       "group E    70.213740\n",
       "Name: writing_score, dtype: float64"
      ]
     },
     "execution_count": 49,
     "metadata": {},
     "output_type": "execute_result"
    }
   ],
   "source": [
    "df.groupby([\"race_ethnicity\"])[\"writing_score\"].mean()"
   ]
  },
  {
   "cell_type": "code",
   "execution_count": 50,
   "id": "c7d1bb15",
   "metadata": {
    "execution": {
     "iopub.execute_input": "2022-10-18T10:49:10.314046Z",
     "iopub.status.busy": "2022-10-18T10:49:10.313653Z",
     "iopub.status.idle": "2022-10-18T10:49:10.725249Z",
     "shell.execute_reply": "2022-10-18T10:49:10.724204Z"
    },
    "papermill": {
     "duration": 0.440358,
     "end_time": "2022-10-18T10:49:10.727767",
     "exception": false,
     "start_time": "2022-10-18T10:49:10.287409",
     "status": "completed"
    },
    "tags": []
   },
   "outputs": [
    {
     "data": {
      "image/png": "[encoded data removed]",
      "text/plain": [
       "<Figure size 360x360 with 1 Axes>"
      ]
     },
     "metadata": {
      "needs_background": "light"
     },
     "output_type": "display_data"
    }
   ],
   "source": [
    "sns.catplot(kind=\"bar\",x=\"race_ethnicity\",y=\"writing_score\",data=df,palette=\"PuRd\")\n",
    "plt.show()"
   ]
  },
  {
   "cell_type": "markdown",
   "id": "d8551244",
   "metadata": {},
   "source": [
    "## Data Preprocessing"
   ]
  },
  {
   "cell_type": "code",
   "execution_count": 51,
   "id": "bb1403db",
   "metadata": {},
   "outputs": [],
   "source": [
    "#### Label Encoding Categorical Variables"
   ]
  },
  {
   "cell_type": "code",
   "execution_count": 52,
   "id": "ad346a78",
   "metadata": {},
   "outputs": [
    {
     "name": "stdout",
     "output_type": "stream",
     "text": [
      "['male' 'female']\n"
     ]
    }
   ],
   "source": [
    "print(df['gender'].unique())"
   ]
  },
  {
   "cell_type": "code",
   "execution_count": 53,
   "id": "6a1e10ea",
   "metadata": {},
   "outputs": [
    {
     "name": "stdout",
     "output_type": "stream",
     "text": [
      "['group A' 'group D' 'group E' 'group B' 'group C']\n"
     ]
    }
   ],
   "source": [
    "print(df['race_ethnicity'].unique())"
   ]
  },
  {
   "cell_type": "code",
   "execution_count": 54,
   "id": "4e7679bf",
   "metadata": {},
   "outputs": [
    {
     "name": "stdout",
     "output_type": "stream",
     "text": [
      "['high school' 'some high school' 'some college' \"associate's degree\"\n",
      " \"bachelor's degree\" \"master's degree\"]\n"
     ]
    }
   ],
   "source": [
    "print(df['Education'].unique())"
   ]
  },
  {
   "cell_type": "code",
   "execution_count": 55,
   "id": "d6da8026",
   "metadata": {},
   "outputs": [
    {
     "name": "stdout",
     "output_type": "stream",
     "text": [
      "['standard' 'free/reduced']\n"
     ]
    }
   ],
   "source": [
    "print(df['lunch'].unique())"
   ]
  },
  {
   "cell_type": "code",
   "execution_count": 56,
   "id": "b8b9446b",
   "metadata": {},
   "outputs": [
    {
     "name": "stdout",
     "output_type": "stream",
     "text": [
      "some college          222\n",
      "associate's degree    203\n",
      "high school           202\n",
      "some high school      191\n",
      "bachelor's degree     112\n",
      "master's degree        70\n",
      "Name: Education, dtype: int64\n"
     ]
    }
   ],
   "source": [
    "print(df['Education'].value_counts())"
   ]
  },
  {
   "cell_type": "code",
   "execution_count": 57,
   "id": "5cb61cfe",
   "metadata": {},
   "outputs": [],
   "source": [
    "from sklearn.preprocessing import LabelEncoder\n",
    "le=LabelEncoder()\n"
   ]
  },
  {
   "cell_type": "code",
   "execution_count": 115,
   "id": "49a2646d",
   "metadata": {},
   "outputs": [],
   "source": [
    "data=df\n",
    "data['gender']=le.fit_transform(data['gender'])\n",
    "data['race_ethnicity']=le.fit_transform(data['race_ethnicity'])\n",
    "data['Education']=le.fit_transform(data['Education'])\n",
    "data['lunch']=le.fit_transform(data['lunch'])\n",
    "data['test_preparation_course']=le.fit_transform(data['test_preparation_course'])"
   ]
  },
  {
   "cell_type": "code",
   "execution_count": 60,
   "id": "8b02e93a",
   "metadata": {},
   "outputs": [
    {
     "data": {
      "text/html": [
       "<div>\n",
       "<style scoped>\n",
       "    .dataframe tbody tr th:only-of-type {\n",
       "        vertical-align: middle;\n",
       "    }\n",
       "\n",
       "    .dataframe tbody tr th {\n",
       "        vertical-align: top;\n",
       "    }\n",
       "\n",
       "    .dataframe thead th {\n",
       "        text-align: right;\n",
       "    }\n",
       "</style>\n",
       "<table border=\"1\" class=\"dataframe\">\n",
       "  <thead>\n",
       "    <tr style=\"text-align: right;\">\n",
       "      <th></th>\n",
       "      <th>gender</th>\n",
       "      <th>race_ethnicity</th>\n",
       "      <th>Education</th>\n",
       "      <th>lunch</th>\n",
       "      <th>test_preparation_course</th>\n",
       "      <th>math_score</th>\n",
       "      <th>reading_score</th>\n",
       "      <th>writing_score</th>\n",
       "    </tr>\n",
       "  </thead>\n",
       "  <tbody>\n",
       "    <tr>\n",
       "      <th>0</th>\n",
       "      <td>1</td>\n",
       "      <td>0</td>\n",
       "      <td>2</td>\n",
       "      <td>1</td>\n",
       "      <td>0</td>\n",
       "      <td>67</td>\n",
       "      <td>67</td>\n",
       "      <td>63</td>\n",
       "    </tr>\n",
       "    <tr>\n",
       "      <th>1</th>\n",
       "      <td>0</td>\n",
       "      <td>3</td>\n",
       "      <td>5</td>\n",
       "      <td>0</td>\n",
       "      <td>1</td>\n",
       "      <td>40</td>\n",
       "      <td>59</td>\n",
       "      <td>55</td>\n",
       "    </tr>\n",
       "    <tr>\n",
       "      <th>2</th>\n",
       "      <td>1</td>\n",
       "      <td>4</td>\n",
       "      <td>4</td>\n",
       "      <td>0</td>\n",
       "      <td>1</td>\n",
       "      <td>59</td>\n",
       "      <td>60</td>\n",
       "      <td>50</td>\n",
       "    </tr>\n",
       "    <tr>\n",
       "      <th>3</th>\n",
       "      <td>1</td>\n",
       "      <td>1</td>\n",
       "      <td>2</td>\n",
       "      <td>1</td>\n",
       "      <td>1</td>\n",
       "      <td>77</td>\n",
       "      <td>78</td>\n",
       "      <td>68</td>\n",
       "    </tr>\n",
       "    <tr>\n",
       "      <th>4</th>\n",
       "      <td>1</td>\n",
       "      <td>4</td>\n",
       "      <td>0</td>\n",
       "      <td>1</td>\n",
       "      <td>0</td>\n",
       "      <td>78</td>\n",
       "      <td>73</td>\n",
       "      <td>68</td>\n",
       "    </tr>\n",
       "  </tbody>\n",
       "</table>\n",
       "</div>"
      ],
      "text/plain": [
       "   gender  race_ethnicity  Education  lunch  test_preparation_course  \\\n",
       "0       1               0          2      1                        0   \n",
       "1       0               3          5      0                        1   \n",
       "2       1               4          4      0                        1   \n",
       "3       1               1          2      1                        1   \n",
       "4       1               4          0      1                        0   \n",
       "\n",
       "   math_score  reading_score  writing_score  \n",
       "0          67             67             63  \n",
       "1          40             59             55  \n",
       "2          59             60             50  \n",
       "3          77             78             68  \n",
       "4          78             73             68  "
      ]
     },
     "execution_count": 60,
     "metadata": {},
     "output_type": "execute_result"
    }
   ],
   "source": [
    "data.head()"
   ]
  },
  {
   "cell_type": "markdown",
   "id": "967683ef",
   "metadata": {},
   "source": [
    "## Creating a new dependent feature to predict the total scores using ML model"
   ]
  },
  {
   "cell_type": "code",
   "execution_count": 61,
   "id": "a3eb2c43",
   "metadata": {},
   "outputs": [
    {
     "data": {
      "text/html": [
       "<div>\n",
       "<style scoped>\n",
       "    .dataframe tbody tr th:only-of-type {\n",
       "        vertical-align: middle;\n",
       "    }\n",
       "\n",
       "    .dataframe tbody tr th {\n",
       "        vertical-align: top;\n",
       "    }\n",
       "\n",
       "    .dataframe thead th {\n",
       "        text-align: right;\n",
       "    }\n",
       "</style>\n",
       "<table border=\"1\" class=\"dataframe\">\n",
       "  <thead>\n",
       "    <tr style=\"text-align: right;\">\n",
       "      <th></th>\n",
       "      <th>gender</th>\n",
       "      <th>race_ethnicity</th>\n",
       "      <th>Education</th>\n",
       "      <th>lunch</th>\n",
       "      <th>test_preparation_course</th>\n",
       "      <th>math_score</th>\n",
       "      <th>reading_score</th>\n",
       "      <th>writing_score</th>\n",
       "      <th>total_scores</th>\n",
       "    </tr>\n",
       "  </thead>\n",
       "  <tbody>\n",
       "    <tr>\n",
       "      <th>0</th>\n",
       "      <td>1</td>\n",
       "      <td>0</td>\n",
       "      <td>2</td>\n",
       "      <td>1</td>\n",
       "      <td>0</td>\n",
       "      <td>67</td>\n",
       "      <td>67</td>\n",
       "      <td>63</td>\n",
       "      <td>197</td>\n",
       "    </tr>\n",
       "    <tr>\n",
       "      <th>1</th>\n",
       "      <td>0</td>\n",
       "      <td>3</td>\n",
       "      <td>5</td>\n",
       "      <td>0</td>\n",
       "      <td>1</td>\n",
       "      <td>40</td>\n",
       "      <td>59</td>\n",
       "      <td>55</td>\n",
       "      <td>154</td>\n",
       "    </tr>\n",
       "    <tr>\n",
       "      <th>2</th>\n",
       "      <td>1</td>\n",
       "      <td>4</td>\n",
       "      <td>4</td>\n",
       "      <td>0</td>\n",
       "      <td>1</td>\n",
       "      <td>59</td>\n",
       "      <td>60</td>\n",
       "      <td>50</td>\n",
       "      <td>169</td>\n",
       "    </tr>\n",
       "    <tr>\n",
       "      <th>3</th>\n",
       "      <td>1</td>\n",
       "      <td>1</td>\n",
       "      <td>2</td>\n",
       "      <td>1</td>\n",
       "      <td>1</td>\n",
       "      <td>77</td>\n",
       "      <td>78</td>\n",
       "      <td>68</td>\n",
       "      <td>223</td>\n",
       "    </tr>\n",
       "    <tr>\n",
       "      <th>4</th>\n",
       "      <td>1</td>\n",
       "      <td>4</td>\n",
       "      <td>0</td>\n",
       "      <td>1</td>\n",
       "      <td>0</td>\n",
       "      <td>78</td>\n",
       "      <td>73</td>\n",
       "      <td>68</td>\n",
       "      <td>219</td>\n",
       "    </tr>\n",
       "  </tbody>\n",
       "</table>\n",
       "</div>"
      ],
      "text/plain": [
       "   gender  race_ethnicity  Education  lunch  test_preparation_course  \\\n",
       "0       1               0          2      1                        0   \n",
       "1       0               3          5      0                        1   \n",
       "2       1               4          4      0                        1   \n",
       "3       1               1          2      1                        1   \n",
       "4       1               4          0      1                        0   \n",
       "\n",
       "   math_score  reading_score  writing_score  total_scores  \n",
       "0          67             67             63           197  \n",
       "1          40             59             55           154  \n",
       "2          59             60             50           169  \n",
       "3          77             78             68           223  \n",
       "4          78             73             68           219  "
      ]
     },
     "execution_count": 61,
     "metadata": {},
     "output_type": "execute_result"
    }
   ],
   "source": [
    "data['total_scores'] = data['math_score']+data['reading_score']+data['writing_score']\n",
    "data.head()"
   ]
  },
  {
   "cell_type": "code",
   "execution_count": 62,
   "id": "a1d61825",
   "metadata": {},
   "outputs": [
    {
     "data": {
      "text/plain": [
       "<AxesSubplot:xlabel='total_scores'>"
      ]
     },
     "execution_count": 62,
     "metadata": {},
     "output_type": "execute_result"
    },
    {
     "data": {
      "image/png": "[encoded data removed]",
      "text/plain": [
       "<Figure size 432x288 with 1 Axes>"
      ]
     },
     "metadata": {
      "needs_background": "light"
     },
     "output_type": "display_data"
    }
   ],
   "source": [
    "sns.boxplot(data['total_scores'])"
   ]
  },
  {
   "cell_type": "markdown",
   "id": "b71c19ff",
   "metadata": {},
   "source": [
    "#We can see that the total scores distributed between the range of 170 - 240 mostly..\n",
    "#But the range extends upto the range of 80-300.\n",
    "and also there are some outliers which shows that there are some students who did not perform well on other scores"
   ]
  },
  {
   "cell_type": "markdown",
   "id": "86c72a18",
   "metadata": {},
   "source": [
    "## Splitting the dataset into independent and dependent variables"
   ]
  },
  {
   "cell_type": "code",
   "execution_count": 63,
   "id": "3ed9eec1",
   "metadata": {},
   "outputs": [
    {
     "data": {
      "text/plain": [
       "Index(['gender', 'race_ethnicity', 'Education', 'lunch',\n",
       "       'test_preparation_course', 'math_score', 'reading_score',\n",
       "       'writing_score', 'total_scores'],\n",
       "      dtype='object')"
      ]
     },
     "execution_count": 63,
     "metadata": {},
     "output_type": "execute_result"
    }
   ],
   "source": [
    "data.columns"
   ]
  },
  {
   "cell_type": "code",
   "execution_count": 64,
   "id": "b61b490b",
   "metadata": {},
   "outputs": [],
   "source": [
    "X=data[['gender','race_ethnicity','Education','lunch','test_preparation_course','math_score','reading_score','writing_score']]\n",
    "y=data['total_scores']"
   ]
  },
  {
   "cell_type": "code",
   "execution_count": 65,
   "id": "557f977e",
   "metadata": {},
   "outputs": [
    {
     "data": {
      "text/html": [
       "<div>\n",
       "<style scoped>\n",
       "    .dataframe tbody tr th:only-of-type {\n",
       "        vertical-align: middle;\n",
       "    }\n",
       "\n",
       "    .dataframe tbody tr th {\n",
       "        vertical-align: top;\n",
       "    }\n",
       "\n",
       "    .dataframe thead th {\n",
       "        text-align: right;\n",
       "    }\n",
       "</style>\n",
       "<table border=\"1\" class=\"dataframe\">\n",
       "  <thead>\n",
       "    <tr style=\"text-align: right;\">\n",
       "      <th></th>\n",
       "      <th>gender</th>\n",
       "      <th>race_ethnicity</th>\n",
       "      <th>Education</th>\n",
       "      <th>lunch</th>\n",
       "      <th>test_preparation_course</th>\n",
       "      <th>math_score</th>\n",
       "      <th>reading_score</th>\n",
       "      <th>writing_score</th>\n",
       "    </tr>\n",
       "  </thead>\n",
       "  <tbody>\n",
       "    <tr>\n",
       "      <th>0</th>\n",
       "      <td>1</td>\n",
       "      <td>0</td>\n",
       "      <td>2</td>\n",
       "      <td>1</td>\n",
       "      <td>0</td>\n",
       "      <td>67</td>\n",
       "      <td>67</td>\n",
       "      <td>63</td>\n",
       "    </tr>\n",
       "    <tr>\n",
       "      <th>1</th>\n",
       "      <td>0</td>\n",
       "      <td>3</td>\n",
       "      <td>5</td>\n",
       "      <td>0</td>\n",
       "      <td>1</td>\n",
       "      <td>40</td>\n",
       "      <td>59</td>\n",
       "      <td>55</td>\n",
       "    </tr>\n",
       "    <tr>\n",
       "      <th>2</th>\n",
       "      <td>1</td>\n",
       "      <td>4</td>\n",
       "      <td>4</td>\n",
       "      <td>0</td>\n",
       "      <td>1</td>\n",
       "      <td>59</td>\n",
       "      <td>60</td>\n",
       "      <td>50</td>\n",
       "    </tr>\n",
       "    <tr>\n",
       "      <th>3</th>\n",
       "      <td>1</td>\n",
       "      <td>1</td>\n",
       "      <td>2</td>\n",
       "      <td>1</td>\n",
       "      <td>1</td>\n",
       "      <td>77</td>\n",
       "      <td>78</td>\n",
       "      <td>68</td>\n",
       "    </tr>\n",
       "    <tr>\n",
       "      <th>4</th>\n",
       "      <td>1</td>\n",
       "      <td>4</td>\n",
       "      <td>0</td>\n",
       "      <td>1</td>\n",
       "      <td>0</td>\n",
       "      <td>78</td>\n",
       "      <td>73</td>\n",
       "      <td>68</td>\n",
       "    </tr>\n",
       "    <tr>\n",
       "      <th>...</th>\n",
       "      <td>...</td>\n",
       "      <td>...</td>\n",
       "      <td>...</td>\n",
       "      <td>...</td>\n",
       "      <td>...</td>\n",
       "      <td>...</td>\n",
       "      <td>...</td>\n",
       "      <td>...</td>\n",
       "    </tr>\n",
       "    <tr>\n",
       "      <th>995</th>\n",
       "      <td>1</td>\n",
       "      <td>2</td>\n",
       "      <td>2</td>\n",
       "      <td>1</td>\n",
       "      <td>1</td>\n",
       "      <td>73</td>\n",
       "      <td>70</td>\n",
       "      <td>65</td>\n",
       "    </tr>\n",
       "    <tr>\n",
       "      <th>996</th>\n",
       "      <td>1</td>\n",
       "      <td>3</td>\n",
       "      <td>0</td>\n",
       "      <td>0</td>\n",
       "      <td>0</td>\n",
       "      <td>85</td>\n",
       "      <td>91</td>\n",
       "      <td>92</td>\n",
       "    </tr>\n",
       "    <tr>\n",
       "      <th>997</th>\n",
       "      <td>0</td>\n",
       "      <td>2</td>\n",
       "      <td>5</td>\n",
       "      <td>0</td>\n",
       "      <td>1</td>\n",
       "      <td>32</td>\n",
       "      <td>35</td>\n",
       "      <td>41</td>\n",
       "    </tr>\n",
       "    <tr>\n",
       "      <th>998</th>\n",
       "      <td>0</td>\n",
       "      <td>2</td>\n",
       "      <td>4</td>\n",
       "      <td>1</td>\n",
       "      <td>1</td>\n",
       "      <td>73</td>\n",
       "      <td>74</td>\n",
       "      <td>82</td>\n",
       "    </tr>\n",
       "    <tr>\n",
       "      <th>999</th>\n",
       "      <td>1</td>\n",
       "      <td>0</td>\n",
       "      <td>4</td>\n",
       "      <td>1</td>\n",
       "      <td>0</td>\n",
       "      <td>65</td>\n",
       "      <td>60</td>\n",
       "      <td>62</td>\n",
       "    </tr>\n",
       "  </tbody>\n",
       "</table>\n",
       "<p>1000 rows × 8 columns</p>\n",
       "</div>"
      ],
      "text/plain": [
       "     gender  race_ethnicity  Education  lunch  test_preparation_course  \\\n",
       "0         1               0          2      1                        0   \n",
       "1         0               3          5      0                        1   \n",
       "2         1               4          4      0                        1   \n",
       "3         1               1          2      1                        1   \n",
       "4         1               4          0      1                        0   \n",
       "..      ...             ...        ...    ...                      ...   \n",
       "995       1               2          2      1                        1   \n",
       "996       1               3          0      0                        0   \n",
       "997       0               2          5      0                        1   \n",
       "998       0               2          4      1                        1   \n",
       "999       1               0          4      1                        0   \n",
       "\n",
       "     math_score  reading_score  writing_score  \n",
       "0            67             67             63  \n",
       "1            40             59             55  \n",
       "2            59             60             50  \n",
       "3            77             78             68  \n",
       "4            78             73             68  \n",
       "..          ...            ...            ...  \n",
       "995          73             70             65  \n",
       "996          85             91             92  \n",
       "997          32             35             41  \n",
       "998          73             74             82  \n",
       "999          65             60             62  \n",
       "\n",
       "[1000 rows x 8 columns]"
      ]
     },
     "execution_count": 65,
     "metadata": {},
     "output_type": "execute_result"
    }
   ],
   "source": [
    "X"
   ]
  },
  {
   "cell_type": "code",
   "execution_count": 66,
   "id": "15152a2c",
   "metadata": {},
   "outputs": [
    {
     "data": {
      "text/plain": [
       "0      197\n",
       "1      154\n",
       "2      169\n",
       "3      223\n",
       "4      219\n",
       "      ... \n",
       "995    208\n",
       "996    268\n",
       "997    108\n",
       "998    229\n",
       "999    187\n",
       "Name: total_scores, Length: 1000, dtype: int64"
      ]
     },
     "execution_count": 66,
     "metadata": {},
     "output_type": "execute_result"
    }
   ],
   "source": [
    "y"
   ]
  },
  {
   "cell_type": "markdown",
   "id": "c8876264",
   "metadata": {},
   "source": [
    "## Splitting the dataset for training and testing the Model "
   ]
  },
  {
   "cell_type": "code",
   "execution_count": 67,
   "id": "876e9f9f",
   "metadata": {},
   "outputs": [],
   "source": [
    "from sklearn.model_selection import train_test_split\n",
    "X_train,X_test,y_train,y_test=train_test_split(X,y,test_size=0.3,random_state=0)"
   ]
  },
  {
   "cell_type": "code",
   "execution_count": 68,
   "id": "9f338d88",
   "metadata": {},
   "outputs": [
    {
     "name": "stdout",
     "output_type": "stream",
     "text": [
      "     gender  race_ethnicity  Education  lunch  test_preparation_course  \\\n",
      "105       0               3          1      1                        1   \n",
      "68        1               1          2      1                        1   \n",
      "479       1               2          0      0                        1   \n",
      "399       0               0          4      0                        0   \n",
      "434       1               2          0      1                        1   \n",
      "..      ...             ...        ...    ...                      ...   \n",
      "835       0               1          5      1                        1   \n",
      "192       1               4          5      0                        1   \n",
      "629       1               2          2      1                        1   \n",
      "559       1               4          2      0                        1   \n",
      "684       1               2          0      0                        1   \n",
      "\n",
      "     math_score  reading_score  writing_score  \n",
      "105          70             78             82  \n",
      "68           79             64             60  \n",
      "479          62             43             45  \n",
      "399          53             70             69  \n",
      "434          67             63             66  \n",
      "..          ...            ...            ...  \n",
      "835          76             81             79  \n",
      "192          68             62             61  \n",
      "629          72             59             54  \n",
      "559          56             48             36  \n",
      "684          69             77             70  \n",
      "\n",
      "[700 rows x 8 columns]\n"
     ]
    }
   ],
   "source": [
    "print(X_train)"
   ]
  },
  {
   "cell_type": "code",
   "execution_count": 69,
   "id": "48637b9d",
   "metadata": {},
   "outputs": [
    {
     "name": "stdout",
     "output_type": "stream",
     "text": [
      "105    230\n",
      "68     203\n",
      "479    150\n",
      "399    192\n",
      "434    196\n",
      "      ... \n",
      "835    236\n",
      "192    191\n",
      "629    185\n",
      "559    140\n",
      "684    216\n",
      "Name: total_scores, Length: 700, dtype: int64\n"
     ]
    }
   ],
   "source": [
    "print(y_train)"
   ]
  },
  {
   "cell_type": "code",
   "execution_count": 70,
   "id": "9c78024c",
   "metadata": {},
   "outputs": [
    {
     "data": {
      "text/plain": [
       "(700, 8)"
      ]
     },
     "execution_count": 70,
     "metadata": {},
     "output_type": "execute_result"
    }
   ],
   "source": [
    "X_train.shape\n"
   ]
  },
  {
   "cell_type": "code",
   "execution_count": 116,
   "id": "31e982a7",
   "metadata": {},
   "outputs": [
    {
     "data": {
      "text/plain": [
       "(700,)"
      ]
     },
     "execution_count": 116,
     "metadata": {},
     "output_type": "execute_result"
    }
   ],
   "source": [
    "y_train.shape"
   ]
  },
  {
   "cell_type": "code",
   "execution_count": 71,
   "id": "f460d9ed",
   "metadata": {},
   "outputs": [
    {
     "data": {
      "text/plain": [
       "(300, 8)"
      ]
     },
     "execution_count": 71,
     "metadata": {},
     "output_type": "execute_result"
    }
   ],
   "source": [
    "X_test.shape"
   ]
  },
  {
   "cell_type": "code",
   "execution_count": 72,
   "id": "72b515f2",
   "metadata": {},
   "outputs": [
    {
     "data": {
      "text/plain": [
       "(300,)"
      ]
     },
     "execution_count": 72,
     "metadata": {},
     "output_type": "execute_result"
    }
   ],
   "source": [
    "y_test.shape"
   ]
  },
  {
   "cell_type": "markdown",
   "id": "7ddc76f2",
   "metadata": {},
   "source": [
    "# MODELLING"
   ]
  },
  {
   "cell_type": "markdown",
   "id": "3ed5b819",
   "metadata": {},
   "source": [
    "## Decission Tree Regression"
   ]
  },
  {
   "cell_type": "code",
   "execution_count": 162,
   "id": "97937e53",
   "metadata": {},
   "outputs": [
    {
     "data": {
      "text/plain": [
       "DecisionTreeRegressor(max_depth=5)"
      ]
     },
     "execution_count": 162,
     "metadata": {},
     "output_type": "execute_result"
    }
   ],
   "source": [
    "from sklearn.tree import DecisionTreeRegressor\n",
    "dec_reg=DecisionTreeRegressor(max_depth=5)\n",
    "dec_reg"
   ]
  },
  {
   "cell_type": "code",
   "execution_count": 163,
   "id": "e8152de6",
   "metadata": {},
   "outputs": [
    {
     "data": {
      "text/plain": [
       "DecisionTreeRegressor(max_depth=5)"
      ]
     },
     "execution_count": 163,
     "metadata": {},
     "output_type": "execute_result"
    }
   ],
   "source": [
    "dec_reg.fit(X_train,y_train)"
   ]
  },
  {
   "cell_type": "code",
   "execution_count": 164,
   "id": "4c25c859",
   "metadata": {},
   "outputs": [
    {
     "name": "stdout",
     "output_type": "stream",
     "text": [
      "[234.13043478 187.95652174 147.38888889 193.08695652 194.06521739\n",
      " 210.95       231.6        223.86538462 205.5625     175.16666667\n",
      " 101.53333333 194.06521739 223.86538462 242.8        223.3\n",
      " 139.93548387 193.08695652 231.6        158.76923077 179.18181818\n",
      " 260.46774194 212.44       223.3        175.16666667 210.95\n",
      " 175.16666667 204.70588235 231.6        194.06521739 245.8\n",
      " 204.70588235 281.72727273 266.75       158.76923077 234.13043478\n",
      " 175.16666667 234.13043478 242.58823529 223.86538462 187.95652174\n",
      " 175.16666667 187.95652174 193.08695652 245.8        260.46774194\n",
      " 139.93548387 139.93548387 179.18181818 281.72727273 204.70588235\n",
      " 234.13043478 231.6        212.44       260.46774194 260.46774194\n",
      " 210.95       194.06521739 101.53333333 158.76923077 184.70833333\n",
      " 231.6        184.70833333 231.6        210.95       175.16666667\n",
      " 234.13043478 194.06521739 179.18181818 242.58823529 187.95652174\n",
      " 184.70833333 179.18181818 179.18181818 194.06521739 179.18181818\n",
      " 130.7        204.70588235 130.7        245.8        223.86538462\n",
      " 234.13043478 242.8        184.70833333 223.86538462 139.93548387\n",
      " 204.70588235 260.46774194 212.44       167.92       179.18181818\n",
      " 175.16666667 193.08695652 194.06521739 266.75       210.95\n",
      " 126.         242.58823529 260.46774194 204.70588235 204.70588235\n",
      " 234.13043478 101.53333333 184.70833333 260.46774194 155.42857143\n",
      " 210.95       260.46774194 158.76923077 294.46666667 234.13043478\n",
      " 282.14285714 194.06521739 194.06521739 212.44       130.7\n",
      " 260.46774194 223.86538462 245.8        205.5625     205.5625\n",
      " 167.92       147.38888889 231.6        194.06521739 147.38888889\n",
      " 231.6        114.6        126.         167.92       155.42857143\n",
      " 234.13043478 179.18181818 187.95652174 126.         260.46774194\n",
      " 294.46666667 167.92       194.06521739 194.06521739 175.16666667\n",
      " 194.06521739 266.75       260.46774194 212.44       175.16666667\n",
      " 205.5625     101.53333333 260.46774194 130.7        260.46774194\n",
      " 223.86538462 175.16666667 260.46774194 242.58823529 260.46774194\n",
      " 139.93548387 184.70833333 223.86538462 231.6        114.6\n",
      " 101.53333333 187.95652174 223.86538462 210.95       234.13043478\n",
      " 194.06521739 242.8        210.95       234.13043478 266.75\n",
      " 260.46774194 223.3        155.42857143 205.5625     167.92\n",
      " 101.53333333 245.8        158.76923077 167.92       147.38888889\n",
      " 210.95       175.16666667 175.16666667 223.86538462 260.46774194\n",
      " 194.06521739 194.06521739 194.06521739 260.46774194 266.75\n",
      " 101.53333333 175.16666667 139.93548387 204.70588235 223.86538462\n",
      " 204.70588235 167.92       139.93548387 231.6        212.44\n",
      " 175.16666667 294.46666667 281.72727273 231.6        194.06521739\n",
      " 266.75       204.70588235 282.14285714 194.06521739 282.14285714\n",
      " 187.95652174 223.86538462 194.06521739 158.76923077 234.13043478\n",
      " 282.14285714 175.16666667 294.46666667 294.46666667 231.6\n",
      " 260.46774194 212.44       223.86538462 223.86538462 194.06521739\n",
      "  65.         231.6        179.18181818 260.46774194 147.38888889\n",
      " 242.8        294.46666667 242.8        204.70588235 231.6\n",
      " 223.86538462 223.86538462 194.06521739 231.6        139.93548387\n",
      " 282.14285714 204.70588235 194.06521739 167.92       194.06521739\n",
      " 194.06521739 175.16666667 194.06521739 212.44       194.06521739\n",
      " 193.08695652 231.6        167.92       158.76923077 205.5625\n",
      " 139.93548387 193.08695652 179.18181818 147.38888889 223.86538462\n",
      " 231.6        223.86538462 139.93548387 223.86538462 114.6\n",
      " 101.53333333 223.86538462 223.86538462 231.6        245.8\n",
      " 245.8        266.75       210.95       260.46774194 155.42857143\n",
      " 212.44       260.46774194 260.46774194 231.6        184.70833333\n",
      " 260.46774194 187.95652174 139.93548387 167.92       223.86538462\n",
      " 184.70833333 260.46774194 204.70588235 194.06521739 187.95652174\n",
      " 260.46774194 193.08695652 210.95       101.53333333 294.46666667\n",
      " 234.13043478 223.86538462 158.76923077 147.38888889 194.06521739\n",
      " 223.86538462 158.76923077 155.42857143 158.76923077 114.6\n",
      " 139.93548387 101.53333333 179.18181818 204.70588235 187.95652174\n",
      " 223.86538462 175.16666667 158.76923077 194.06521739 184.70833333\n",
      " 223.86538462 260.46774194 223.86538462 212.44       158.76923077\n",
      " 184.70833333 139.93548387 158.76923077 194.06521739 204.70588235\n",
      " 193.08695652 184.70833333 155.42857143 193.08695652 212.44\n",
      " 212.44       204.70588235 114.6        242.58823529 147.38888889\n",
      " 101.53333333 223.3        194.06521739 147.38888889 234.13043478\n",
      " 175.16666667 193.08695652 139.93548387 281.72727273 194.06521739\n",
      " 294.46666667 193.08695652 294.46666667 147.38888889 223.86538462\n",
      " 231.6        187.95652174 260.46774194 242.8        282.14285714\n",
      " 167.92       212.44       187.95652174 242.58823529 139.93548387\n",
      " 139.93548387 242.58823529 205.5625     210.95       204.70588235\n",
      " 223.86538462 147.38888889 260.46774194 179.18181818 130.7\n",
      " 223.86538462 194.06521739 245.8        266.75       139.93548387\n",
      " 187.95652174 266.75       260.46774194 260.46774194 223.86538462\n",
      " 260.46774194 205.5625     193.08695652 179.18181818 281.72727273\n",
      " 158.76923077 245.8        175.16666667 175.16666667 204.70588235\n",
      " 155.42857143 114.6        184.70833333 179.18181818 231.6\n",
      " 204.70588235 179.18181818 204.70588235 179.18181818 194.06521739\n",
      " 187.95652174 139.93548387 223.86538462 187.95652174 130.7\n",
      " 231.6        167.92       260.46774194 231.6        266.75\n",
      " 210.95       147.38888889 223.3        223.86538462 175.16666667\n",
      " 231.6        223.86538462 260.46774194 175.16666667 260.46774194\n",
      " 223.86538462 223.86538462 175.16666667 114.6        175.16666667\n",
      " 194.06521739 167.92       260.46774194 158.76923077 175.16666667\n",
      " 194.06521739 205.5625     242.58823529 266.75       167.92\n",
      " 260.46774194 158.76923077 242.8        187.95652174 158.76923077\n",
      " 139.93548387 223.86538462 281.72727273 242.58823529 147.38888889\n",
      " 210.95       231.6        205.5625     260.46774194 234.13043478\n",
      " 158.76923077 231.6        223.86538462 281.72727273 147.38888889\n",
      " 210.95       266.75       281.72727273 204.70588235 187.95652174\n",
      " 205.5625     260.46774194 126.         260.46774194 212.44\n",
      " 260.46774194 234.13043478 139.93548387 130.7        260.46774194\n",
      " 193.08695652 260.46774194 266.75       245.8        139.93548387\n",
      " 187.95652174 242.8        260.46774194 294.46666667 266.75\n",
      " 167.92       294.46666667 231.6        130.7        184.70833333\n",
      " 147.38888889 187.95652174 231.6        260.46774194 242.58823529\n",
      " 155.42857143 234.13043478 193.08695652 155.42857143 204.70588235\n",
      " 167.92       175.16666667 147.38888889 260.46774194 126.\n",
      " 223.3        175.16666667 175.16666667 139.93548387 130.7\n",
      " 114.6        204.70588235 184.70833333 193.08695652 260.46774194\n",
      " 260.46774194 184.70833333 158.76923077 184.70833333 212.44\n",
      " 212.44       101.53333333 175.16666667 147.38888889 204.70588235\n",
      " 101.53333333 223.86538462 187.95652174 223.86538462 194.06521739\n",
      " 242.58823529 260.46774194 193.08695652 234.13043478 260.46774194\n",
      " 245.8        204.70588235 234.13043478 101.53333333 231.6\n",
      " 193.08695652 242.58823529 266.75       114.6        155.42857143\n",
      " 194.06521739 212.44       260.46774194 193.08695652 210.95\n",
      " 139.93548387 210.95       139.93548387 139.93548387 205.5625\n",
      " 260.46774194 210.95       184.70833333 194.06521739 294.46666667\n",
      " 223.86538462 175.16666667 126.         167.92       155.42857143\n",
      " 158.76923077 139.93548387 234.13043478 193.08695652 155.42857143\n",
      " 187.95652174 139.93548387 223.86538462 223.86538462 260.46774194\n",
      " 158.76923077 175.16666667 223.86538462 167.92       175.16666667\n",
      " 260.46774194 294.46666667 193.08695652 281.72727273 231.6\n",
      " 242.58823529 158.76923077 184.70833333 139.93548387 212.44\n",
      " 260.46774194 204.70588235 167.92       155.42857143 223.86538462\n",
      " 167.92       139.93548387 184.70833333 204.70588235 260.46774194\n",
      " 175.16666667 155.42857143 184.70833333 179.18181818 204.70588235\n",
      " 184.70833333 223.3        205.5625     242.58823529 184.70833333\n",
      " 114.6        167.92       234.13043478 223.3        242.8\n",
      " 205.5625     223.86538462 167.92       260.46774194 139.93548387\n",
      " 245.8        167.92       234.13043478 260.46774194 234.13043478\n",
      " 204.70588235 194.06521739 184.70833333 212.44       242.8\n",
      " 194.06521739 242.58823529 223.86538462 281.72727273 260.46774194\n",
      " 242.58823529 294.46666667 204.70588235 139.93548387 231.6\n",
      " 126.         260.46774194 266.75       245.8        223.3\n",
      " 179.18181818 167.92       231.6        212.44       175.16666667\n",
      " 101.53333333 210.95       179.18181818 245.8        194.06521739\n",
      " 223.86538462 212.44       204.70588235 223.86538462 175.16666667\n",
      " 158.76923077 147.38888889 179.18181818 193.08695652 158.76923077\n",
      " 179.18181818 242.58823529 167.92       223.86538462 204.70588235\n",
      " 212.44       223.3        231.6        212.44       212.44\n",
      " 193.08695652 194.06521739 204.70588235 223.86538462 193.08695652\n",
      " 158.76923077 223.86538462 281.72727273 205.5625     179.18181818\n",
      " 194.06521739 205.5625     282.14285714 175.16666667 204.70588235\n",
      " 184.70833333 245.8        212.44       294.46666667 231.6\n",
      " 194.06521739 126.         158.76923077 260.46774194 260.46774194\n",
      " 231.6        187.95652174 187.95652174 130.7        210.95      ]\n"
     ]
    }
   ],
   "source": [
    "y_pred_dec_reg=dec_reg.predict(X_train)\n",
    "print(y_pred_dec_reg)"
   ]
  },
  {
   "cell_type": "markdown",
   "id": "787433d9",
   "metadata": {},
   "source": [
    "# SCORE"
   ]
  },
  {
   "cell_type": "code",
   "execution_count": 165,
   "id": "b81e0814",
   "metadata": {},
   "outputs": [
    {
     "name": "stdout",
     "output_type": "stream",
     "text": [
      "Score on Test Data :  0.9673170377927085\n",
      "Score on Training Data :  0.9830698619940315\n"
     ]
    }
   ],
   "source": [
    "print(\"Score on Test Data : \",dec_reg.score(X_test,y_test))\n",
    "print(\"Score on Training Data : \",dec_reg.score(X_train,y_train))"
   ]
  },
  {
   "cell_type": "markdown",
   "id": "9d6e0515",
   "metadata": {},
   "source": [
    "## I tried different depths for the decision tree regressor.. Found that 4 and 5 gives the best accuracy..!"
   ]
  },
  {
   "cell_type": "markdown",
   "id": "9989325a",
   "metadata": {},
   "source": [
    "### Here we end our Analysis and Prediction of Students Perfomance Scores..!"
   ]
  },
  {
   "cell_type": "code",
   "execution_count": null,
   "id": "8ba1311f",
   "metadata": {},
   "outputs": [],
   "source": [
    "------------------------------------------------------------------------------------------------------"
   ]
  }
 ],
 "metadata": {
  "kernelspec": {
   "display_name": "Python 3 (ipykernel)",
   "language": "python",
   "name": "python3"
  },
  "language_info": {
   "codemirror_mode": {
    "name": "ipython",
    "version": 3
   },
   "file_extension": ".py",
   "mimetype": "text/x-python",
   "name": "python",
   "nbconvert_exporter": "python",
   "pygments_lexer": "ipython3",
   "version": "3.9.12"
  },
  "papermill": {
   "default_parameters": {},
   "duration": 20.694658,
   "end_time": "2022-10-18T10:49:11.472986",
   "environment_variables": {},
   "exception": null,
   "input_path": "__notebook__.ipynb",
   "output_path": "__notebook__.ipynb",
   "parameters": {},
   "start_time": "2022-10-18T10:48:50.778328",
   "version": "2.3.4"
  }
 },
 "nbformat": 4,
 "nbformat_minor": 5
}
